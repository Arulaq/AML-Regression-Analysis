{
 "cells": [
  {
   "cell_type": "markdown",
   "id": "f171387b",
   "metadata": {},
   "source": [
    "## Objective:"
   ]
  },
  {
   "cell_type": "markdown",
   "id": "05b23b2f",
   "metadata": {},
   "source": [
    "- To explore and visualize the dataset\n",
    "- Build a linear regression model to predict the prices of used cars\n",
    "- generate a set of insights and recommendations that will help the business."
   ]
  },
  {
   "cell_type": "markdown",
   "id": "e98a859d",
   "metadata": {},
   "source": [
    "## Data:"
   ]
  },
  {
   "cell_type": "markdown",
   "id": "b859fcb6",
   "metadata": {},
   "source": [
    "<b>used_cars_data.csv</b> - Contains information about used cars and prices\n",
    "- S.No.: Serial number\n",
    "- Name: Name of the car which includes brand name and model name\n",
    "- Location: Location in which the car is being sold or is available for purchase (cities)\n",
    "- Year: Manufacturing year of the car\n",
    "- Kilometers_driven: The total kilometers driven in the car by the previous owner(s) in km\n",
    "- Fuel_Type: The type of fuel used by the car (Petrol, Diesel, Electric, CNG, LPG)\n",
    "- Transmission: The type of transmission used by the car (Automatic/Manual)\n",
    "- Owner: Type of ownership\n",
    "- Mileage: The standard mileage offered by the car company in kmpl or km/kg\n",
    "- Engine: The displacement volume of the engine in CC\n",
    "- Power: The maximum power of the engine in bhp\n",
    "- Seats: The number of seats in the car\n",
    "- New_Price: The price of a new car of the same model in INR Lakhs\n",
    "- Price: The price of the used car in INR Lakhs"
   ]
  },
  {
   "cell_type": "markdown",
   "id": "8d78fd3b",
   "metadata": {},
   "source": [
    "### Importing the necessary package"
   ]
  },
  {
   "cell_type": "code",
   "execution_count": 1,
   "id": "8e8f25ef",
   "metadata": {},
   "outputs": [],
   "source": [
    "import numpy as np\n",
    "import pandas as pd\n",
    "import matplotlib.pyplot as plt\n",
    "import seaborn as sns\n",
    "pd.set_option(\"display.max_columns\", None)\n",
    "pd.set_option(\"display.max_rows\", 200)\n",
    "from sklearn.model_selection import train_test_split\n",
    "from sklearn.linear_model import LinearRegression\n",
    "from sklearn.metrics import mean_absolute_error, mean_squared_error, r2_score"
   ]
  },
  {
   "cell_type": "markdown",
   "id": "ee66d425",
   "metadata": {},
   "source": [
    "### Reading the Dataset"
   ]
  },
  {
   "cell_type": "code",
   "execution_count": 2,
   "id": "fefa0e55",
   "metadata": {},
   "outputs": [],
   "source": [
    "data = pd.read_csv(\"used_cars_data.csv\")"
   ]
  },
  {
   "cell_type": "code",
   "execution_count": 3,
   "id": "7f7fff49",
   "metadata": {},
   "outputs": [],
   "source": [
    "#Copying data to a new variable as to not mess up original\n",
    "df = data.copy()"
   ]
  },
  {
   "cell_type": "markdown",
   "id": "0c90c14a",
   "metadata": {},
   "source": [
    "### Viewing first and last 5 rows"
   ]
  },
  {
   "cell_type": "code",
   "execution_count": 4,
   "id": "6538487b",
   "metadata": {
    "scrolled": true
   },
   "outputs": [
    {
     "data": {
      "text/html": [
       "<div>\n",
       "<style scoped>\n",
       "    .dataframe tbody tr th:only-of-type {\n",
       "        vertical-align: middle;\n",
       "    }\n",
       "\n",
       "    .dataframe tbody tr th {\n",
       "        vertical-align: top;\n",
       "    }\n",
       "\n",
       "    .dataframe thead th {\n",
       "        text-align: right;\n",
       "    }\n",
       "</style>\n",
       "<table border=\"1\" class=\"dataframe\">\n",
       "  <thead>\n",
       "    <tr style=\"text-align: right;\">\n",
       "      <th></th>\n",
       "      <th>S.No.</th>\n",
       "      <th>Name</th>\n",
       "      <th>Location</th>\n",
       "      <th>Year</th>\n",
       "      <th>Kilometers_Driven</th>\n",
       "      <th>Fuel_Type</th>\n",
       "      <th>Transmission</th>\n",
       "      <th>Owner_Type</th>\n",
       "      <th>Mileage</th>\n",
       "      <th>Engine</th>\n",
       "      <th>Power</th>\n",
       "      <th>Seats</th>\n",
       "      <th>New_Price</th>\n",
       "      <th>Price</th>\n",
       "    </tr>\n",
       "  </thead>\n",
       "  <tbody>\n",
       "    <tr>\n",
       "      <th>0</th>\n",
       "      <td>0</td>\n",
       "      <td>Maruti Wagon R LXI CNG</td>\n",
       "      <td>Mumbai</td>\n",
       "      <td>2010</td>\n",
       "      <td>72000</td>\n",
       "      <td>CNG</td>\n",
       "      <td>Manual</td>\n",
       "      <td>First</td>\n",
       "      <td>26.6 km/kg</td>\n",
       "      <td>998 CC</td>\n",
       "      <td>58.16 bhp</td>\n",
       "      <td>5.0</td>\n",
       "      <td>NaN</td>\n",
       "      <td>1.75</td>\n",
       "    </tr>\n",
       "    <tr>\n",
       "      <th>1</th>\n",
       "      <td>1</td>\n",
       "      <td>Hyundai Creta 1.6 CRDi SX Option</td>\n",
       "      <td>Pune</td>\n",
       "      <td>2015</td>\n",
       "      <td>41000</td>\n",
       "      <td>Diesel</td>\n",
       "      <td>Manual</td>\n",
       "      <td>First</td>\n",
       "      <td>19.67 kmpl</td>\n",
       "      <td>1582 CC</td>\n",
       "      <td>126.2 bhp</td>\n",
       "      <td>5.0</td>\n",
       "      <td>NaN</td>\n",
       "      <td>12.50</td>\n",
       "    </tr>\n",
       "    <tr>\n",
       "      <th>2</th>\n",
       "      <td>2</td>\n",
       "      <td>Honda Jazz V</td>\n",
       "      <td>Chennai</td>\n",
       "      <td>2011</td>\n",
       "      <td>46000</td>\n",
       "      <td>Petrol</td>\n",
       "      <td>Manual</td>\n",
       "      <td>First</td>\n",
       "      <td>18.2 kmpl</td>\n",
       "      <td>1199 CC</td>\n",
       "      <td>88.7 bhp</td>\n",
       "      <td>5.0</td>\n",
       "      <td>8.61 Lakh</td>\n",
       "      <td>4.50</td>\n",
       "    </tr>\n",
       "    <tr>\n",
       "      <th>3</th>\n",
       "      <td>3</td>\n",
       "      <td>Maruti Ertiga VDI</td>\n",
       "      <td>Chennai</td>\n",
       "      <td>2012</td>\n",
       "      <td>87000</td>\n",
       "      <td>Diesel</td>\n",
       "      <td>Manual</td>\n",
       "      <td>First</td>\n",
       "      <td>20.77 kmpl</td>\n",
       "      <td>1248 CC</td>\n",
       "      <td>88.76 bhp</td>\n",
       "      <td>7.0</td>\n",
       "      <td>NaN</td>\n",
       "      <td>6.00</td>\n",
       "    </tr>\n",
       "    <tr>\n",
       "      <th>4</th>\n",
       "      <td>4</td>\n",
       "      <td>Audi A4 New 2.0 TDI Multitronic</td>\n",
       "      <td>Coimbatore</td>\n",
       "      <td>2013</td>\n",
       "      <td>40670</td>\n",
       "      <td>Diesel</td>\n",
       "      <td>Automatic</td>\n",
       "      <td>Second</td>\n",
       "      <td>15.2 kmpl</td>\n",
       "      <td>1968 CC</td>\n",
       "      <td>140.8 bhp</td>\n",
       "      <td>5.0</td>\n",
       "      <td>NaN</td>\n",
       "      <td>17.74</td>\n",
       "    </tr>\n",
       "  </tbody>\n",
       "</table>\n",
       "</div>"
      ],
      "text/plain": [
       "   S.No.                              Name    Location  Year  \\\n",
       "0      0            Maruti Wagon R LXI CNG      Mumbai  2010   \n",
       "1      1  Hyundai Creta 1.6 CRDi SX Option        Pune  2015   \n",
       "2      2                      Honda Jazz V     Chennai  2011   \n",
       "3      3                 Maruti Ertiga VDI     Chennai  2012   \n",
       "4      4   Audi A4 New 2.0 TDI Multitronic  Coimbatore  2013   \n",
       "\n",
       "   Kilometers_Driven Fuel_Type Transmission Owner_Type     Mileage   Engine  \\\n",
       "0              72000       CNG       Manual      First  26.6 km/kg   998 CC   \n",
       "1              41000    Diesel       Manual      First  19.67 kmpl  1582 CC   \n",
       "2              46000    Petrol       Manual      First   18.2 kmpl  1199 CC   \n",
       "3              87000    Diesel       Manual      First  20.77 kmpl  1248 CC   \n",
       "4              40670    Diesel    Automatic     Second   15.2 kmpl  1968 CC   \n",
       "\n",
       "       Power  Seats  New_Price  Price  \n",
       "0  58.16 bhp    5.0        NaN   1.75  \n",
       "1  126.2 bhp    5.0        NaN  12.50  \n",
       "2   88.7 bhp    5.0  8.61 Lakh   4.50  \n",
       "3  88.76 bhp    7.0        NaN   6.00  \n",
       "4  140.8 bhp    5.0        NaN  17.74  "
      ]
     },
     "execution_count": 4,
     "metadata": {},
     "output_type": "execute_result"
    }
   ],
   "source": [
    "df.head()"
   ]
  },
  {
   "cell_type": "code",
   "execution_count": 5,
   "id": "28b6e0af",
   "metadata": {},
   "outputs": [
    {
     "data": {
      "text/html": [
       "<div>\n",
       "<style scoped>\n",
       "    .dataframe tbody tr th:only-of-type {\n",
       "        vertical-align: middle;\n",
       "    }\n",
       "\n",
       "    .dataframe tbody tr th {\n",
       "        vertical-align: top;\n",
       "    }\n",
       "\n",
       "    .dataframe thead th {\n",
       "        text-align: right;\n",
       "    }\n",
       "</style>\n",
       "<table border=\"1\" class=\"dataframe\">\n",
       "  <thead>\n",
       "    <tr style=\"text-align: right;\">\n",
       "      <th></th>\n",
       "      <th>S.No.</th>\n",
       "      <th>Name</th>\n",
       "      <th>Location</th>\n",
       "      <th>Year</th>\n",
       "      <th>Kilometers_Driven</th>\n",
       "      <th>Fuel_Type</th>\n",
       "      <th>Transmission</th>\n",
       "      <th>Owner_Type</th>\n",
       "      <th>Mileage</th>\n",
       "      <th>Engine</th>\n",
       "      <th>Power</th>\n",
       "      <th>Seats</th>\n",
       "      <th>New_Price</th>\n",
       "      <th>Price</th>\n",
       "    </tr>\n",
       "  </thead>\n",
       "  <tbody>\n",
       "    <tr>\n",
       "      <th>7248</th>\n",
       "      <td>7248</td>\n",
       "      <td>Volkswagen Vento Diesel Trendline</td>\n",
       "      <td>Hyderabad</td>\n",
       "      <td>2011</td>\n",
       "      <td>89411</td>\n",
       "      <td>Diesel</td>\n",
       "      <td>Manual</td>\n",
       "      <td>First</td>\n",
       "      <td>20.54 kmpl</td>\n",
       "      <td>1598 CC</td>\n",
       "      <td>103.6 bhp</td>\n",
       "      <td>5.0</td>\n",
       "      <td>NaN</td>\n",
       "      <td>NaN</td>\n",
       "    </tr>\n",
       "    <tr>\n",
       "      <th>7249</th>\n",
       "      <td>7249</td>\n",
       "      <td>Volkswagen Polo GT TSI</td>\n",
       "      <td>Mumbai</td>\n",
       "      <td>2015</td>\n",
       "      <td>59000</td>\n",
       "      <td>Petrol</td>\n",
       "      <td>Automatic</td>\n",
       "      <td>First</td>\n",
       "      <td>17.21 kmpl</td>\n",
       "      <td>1197 CC</td>\n",
       "      <td>103.6 bhp</td>\n",
       "      <td>5.0</td>\n",
       "      <td>NaN</td>\n",
       "      <td>NaN</td>\n",
       "    </tr>\n",
       "    <tr>\n",
       "      <th>7250</th>\n",
       "      <td>7250</td>\n",
       "      <td>Nissan Micra Diesel XV</td>\n",
       "      <td>Kolkata</td>\n",
       "      <td>2012</td>\n",
       "      <td>28000</td>\n",
       "      <td>Diesel</td>\n",
       "      <td>Manual</td>\n",
       "      <td>First</td>\n",
       "      <td>23.08 kmpl</td>\n",
       "      <td>1461 CC</td>\n",
       "      <td>63.1 bhp</td>\n",
       "      <td>5.0</td>\n",
       "      <td>NaN</td>\n",
       "      <td>NaN</td>\n",
       "    </tr>\n",
       "    <tr>\n",
       "      <th>7251</th>\n",
       "      <td>7251</td>\n",
       "      <td>Volkswagen Polo GT TSI</td>\n",
       "      <td>Pune</td>\n",
       "      <td>2013</td>\n",
       "      <td>52262</td>\n",
       "      <td>Petrol</td>\n",
       "      <td>Automatic</td>\n",
       "      <td>Third</td>\n",
       "      <td>17.2 kmpl</td>\n",
       "      <td>1197 CC</td>\n",
       "      <td>103.6 bhp</td>\n",
       "      <td>5.0</td>\n",
       "      <td>NaN</td>\n",
       "      <td>NaN</td>\n",
       "    </tr>\n",
       "    <tr>\n",
       "      <th>7252</th>\n",
       "      <td>7252</td>\n",
       "      <td>Mercedes-Benz E-Class 2009-2013 E 220 CDI Avan...</td>\n",
       "      <td>Kochi</td>\n",
       "      <td>2014</td>\n",
       "      <td>72443</td>\n",
       "      <td>Diesel</td>\n",
       "      <td>Automatic</td>\n",
       "      <td>First</td>\n",
       "      <td>10.0 kmpl</td>\n",
       "      <td>2148 CC</td>\n",
       "      <td>170 bhp</td>\n",
       "      <td>5.0</td>\n",
       "      <td>NaN</td>\n",
       "      <td>NaN</td>\n",
       "    </tr>\n",
       "  </tbody>\n",
       "</table>\n",
       "</div>"
      ],
      "text/plain": [
       "      S.No.                                               Name   Location  \\\n",
       "7248   7248                  Volkswagen Vento Diesel Trendline  Hyderabad   \n",
       "7249   7249                             Volkswagen Polo GT TSI     Mumbai   \n",
       "7250   7250                             Nissan Micra Diesel XV    Kolkata   \n",
       "7251   7251                             Volkswagen Polo GT TSI       Pune   \n",
       "7252   7252  Mercedes-Benz E-Class 2009-2013 E 220 CDI Avan...      Kochi   \n",
       "\n",
       "      Year  Kilometers_Driven Fuel_Type Transmission Owner_Type     Mileage  \\\n",
       "7248  2011              89411    Diesel       Manual      First  20.54 kmpl   \n",
       "7249  2015              59000    Petrol    Automatic      First  17.21 kmpl   \n",
       "7250  2012              28000    Diesel       Manual      First  23.08 kmpl   \n",
       "7251  2013              52262    Petrol    Automatic      Third   17.2 kmpl   \n",
       "7252  2014              72443    Diesel    Automatic      First   10.0 kmpl   \n",
       "\n",
       "       Engine      Power  Seats New_Price  Price  \n",
       "7248  1598 CC  103.6 bhp    5.0       NaN    NaN  \n",
       "7249  1197 CC  103.6 bhp    5.0       NaN    NaN  \n",
       "7250  1461 CC   63.1 bhp    5.0       NaN    NaN  \n",
       "7251  1197 CC  103.6 bhp    5.0       NaN    NaN  \n",
       "7252  2148 CC    170 bhp    5.0       NaN    NaN  "
      ]
     },
     "execution_count": 5,
     "metadata": {},
     "output_type": "execute_result"
    }
   ],
   "source": [
    "df.tail()"
   ]
  },
  {
   "cell_type": "markdown",
   "id": "4fc3fb1c",
   "metadata": {},
   "source": [
    "- S.No. and index are the same\n",
    "- Mileage has 2 different units kmpl and km/kg\n",
    "- Engine and Power uses constant units\n",
    "- lots of missing values in New_Price and Price"
   ]
  },
  {
   "cell_type": "markdown",
   "id": "d67c5833",
   "metadata": {},
   "source": [
    "### Understanding the shape of the dataset"
   ]
  },
  {
   "cell_type": "code",
   "execution_count": 6,
   "id": "2f631769",
   "metadata": {},
   "outputs": [
    {
     "name": "stdout",
     "output_type": "stream",
     "text": [
      "There are 7253 rows and 14 columns.\n"
     ]
    }
   ],
   "source": [
    "print(f\"There are {df.shape[0]} rows and {df.shape[1]} columns.\")  # f-string\n"
   ]
  },
  {
   "cell_type": "markdown",
   "id": "ad95a478",
   "metadata": {},
   "source": [
    "### Checking the data types and values"
   ]
  },
  {
   "cell_type": "code",
   "execution_count": 7,
   "id": "18214875",
   "metadata": {},
   "outputs": [
    {
     "data": {
      "text/plain": [
       "0"
      ]
     },
     "execution_count": 7,
     "metadata": {},
     "output_type": "execute_result"
    }
   ],
   "source": [
    "#checking for duplicate rows\n",
    "df.duplicated().sum()"
   ]
  },
  {
   "cell_type": "code",
   "execution_count": 8,
   "id": "c2b9fc3e",
   "metadata": {},
   "outputs": [],
   "source": [
    "#We don't need S.No. as it is useless to us\n",
    "df.drop(['S.No.'],axis=1, inplace=True)"
   ]
  },
  {
   "cell_type": "code",
   "execution_count": 9,
   "id": "48835e78",
   "metadata": {},
   "outputs": [
    {
     "name": "stdout",
     "output_type": "stream",
     "text": [
      "<class 'pandas.core.frame.DataFrame'>\n",
      "RangeIndex: 7253 entries, 0 to 7252\n",
      "Data columns (total 13 columns):\n",
      " #   Column             Non-Null Count  Dtype  \n",
      "---  ------             --------------  -----  \n",
      " 0   Name               7253 non-null   object \n",
      " 1   Location           7253 non-null   object \n",
      " 2   Year               7253 non-null   int64  \n",
      " 3   Kilometers_Driven  7253 non-null   int64  \n",
      " 4   Fuel_Type          7253 non-null   object \n",
      " 5   Transmission       7253 non-null   object \n",
      " 6   Owner_Type         7253 non-null   object \n",
      " 7   Mileage            7251 non-null   object \n",
      " 8   Engine             7207 non-null   object \n",
      " 9   Power              7078 non-null   object \n",
      " 10  Seats              7200 non-null   float64\n",
      " 11  New_Price          1006 non-null   object \n",
      " 12  Price              6019 non-null   float64\n",
      "dtypes: float64(2), int64(2), object(9)\n",
      "memory usage: 736.8+ KB\n"
     ]
    }
   ],
   "source": [
    "df.info()"
   ]
  },
  {
   "cell_type": "markdown",
   "id": "4a944c60",
   "metadata": {},
   "source": [
    "- Fuel_Type, Transmission and Owner_Type should be categories\n",
    "- Mileage, Engine, New_Price and Power should be float\n",
    "- Seats could be int or categories\n",
    "- Missing values in Mileage, Engine, Power, Seats, New_Price and Price\n",
    "- New_Price missing majority of values"
   ]
  },
  {
   "cell_type": "markdown",
   "id": "5ad1ea6d",
   "metadata": {},
   "source": [
    "## Fixing the data types"
   ]
  },
  {
   "cell_type": "code",
   "execution_count": 10,
   "id": "ac63fc54",
   "metadata": {},
   "outputs": [
    {
     "data": {
      "text/plain": [
       "Name                   object\n",
       "Location               object\n",
       "Year                    int64\n",
       "Kilometers_Driven       int64\n",
       "Fuel_Type            category\n",
       "Transmission         category\n",
       "Owner_Type           category\n",
       "Mileage                object\n",
       "Engine                 object\n",
       "Power                  object\n",
       "Seats                 float64\n",
       "New_Price              object\n",
       "Price                 float64\n",
       "dtype: object"
      ]
     },
     "execution_count": 10,
     "metadata": {},
     "output_type": "execute_result"
    }
   ],
   "source": [
    "# list of columns to change to categories \n",
    "categorical_var = ['Fuel_Type', 'Transmission', 'Owner_Type']\n",
    "#changing types\n",
    "for colname in categorical_var:\n",
    "    df[colname] = df[colname].astype('category')\n",
    "#checking if properly changed\n",
    "df.dtypes   "
   ]
  },
  {
   "cell_type": "code",
   "execution_count": 11,
   "id": "5948abee",
   "metadata": {},
   "outputs": [],
   "source": [
    "#functions to change mileage, power and engine to float\n",
    "def mileage_to_num(mileage):\n",
    "    if isinstance(mileage,str):\n",
    "        return float(mileage.replace('km/kg','').replace('kmpl',''))\n",
    "    elif isinstance(mileage,float):\n",
    "        return mileage\n",
    "    elif isinstance(mileage,int):\n",
    "        return float(mileage)\n",
    "    else:\n",
    "        return np.nan\n",
    "#explaining this one as the rest follow a similar model    \n",
    "def CC_to_num(engine): #defining function\n",
    "    if isinstance(engine,str): # if input is a string\n",
    "        return float(engine.replace('CC','')) #delete the word CC and return as float\n",
    "    elif isinstance(engine,float): #if it is already a float return it as float\n",
    "        return engine\n",
    "    elif isinstance(engine,int): #if it is an int turn it into a float\n",
    "        return float(engine)\n",
    "    else:                       #otherwise it is nan and return nan\n",
    "        return np.nan\n",
    "def power_to_num(power):\n",
    "    if isinstance(power,str):\n",
    "        return float(power.replace('bhp',''))\n",
    "    elif isinstance(power,float):\n",
    "        return power\n",
    "    elif isinstance(power,int):\n",
    "        return float(power)\n",
    "    else:\n",
    "        return np.nan\n",
    "df['Mileage'] = df['Mileage'].apply(mileage_to_num)\n",
    "df['Engine'] = df['Engine'].apply(CC_to_num)\n",
    "df['Power'] = df['Power'].apply(power_to_num)"
   ]
  },
  {
   "cell_type": "code",
   "execution_count": 12,
   "id": "b2bd0a7b",
   "metadata": {},
   "outputs": [
    {
     "name": "stdout",
     "output_type": "stream",
     "text": [
      "<class 'pandas.core.frame.DataFrame'>\n",
      "RangeIndex: 7253 entries, 0 to 7252\n",
      "Data columns (total 13 columns):\n",
      " #   Column             Non-Null Count  Dtype   \n",
      "---  ------             --------------  -----   \n",
      " 0   Name               7253 non-null   object  \n",
      " 1   Location           7253 non-null   object  \n",
      " 2   Year               7253 non-null   int64   \n",
      " 3   Kilometers_Driven  7253 non-null   int64   \n",
      " 4   Fuel_Type          7253 non-null   category\n",
      " 5   Transmission       7253 non-null   category\n",
      " 6   Owner_Type         7253 non-null   category\n",
      " 7   Mileage            7251 non-null   float64 \n",
      " 8   Engine             7207 non-null   float64 \n",
      " 9   Power              7078 non-null   float64 \n",
      " 10  Seats              7200 non-null   float64 \n",
      " 11  New_Price          1006 non-null   object  \n",
      " 12  Price              6019 non-null   float64 \n",
      "dtypes: category(3), float64(5), int64(2), object(3)\n",
      "memory usage: 588.5+ KB\n"
     ]
    }
   ],
   "source": [
    "#checking if correct changes occured\n",
    "df.info()"
   ]
  },
  {
   "cell_type": "code",
   "execution_count": 13,
   "id": "32006e76",
   "metadata": {},
   "outputs": [],
   "source": [
    "#fixing New_Price, works similar to previous functions except using a multiplier to change to correct currency\n",
    "def curr_conv(currency) :\n",
    "    if isinstance(currency,str):\n",
    "        multiplier = 1\n",
    "        if currency.endswith('Lakh'):\n",
    "            multiplier = 1\n",
    "        if currency.endswith('Cr'):\n",
    "            multuplier = 100\n",
    "        return float(currency.replace('Cr','').replace('Lakh','')) * multiplier\n",
    "    elif isinstance(currency,int):\n",
    "        return currency\n",
    "    elif isinstance(currency,float):\n",
    "        return currency\n",
    "    else:\n",
    "        return np.nan\n",
    "df['New_Price'] = df['New_Price'].apply(curr_conv)"
   ]
  },
  {
   "cell_type": "code",
   "execution_count": 14,
   "id": "cb1b0f72",
   "metadata": {},
   "outputs": [
    {
     "name": "stdout",
     "output_type": "stream",
     "text": [
      "<class 'pandas.core.frame.DataFrame'>\n",
      "RangeIndex: 7253 entries, 0 to 7252\n",
      "Data columns (total 13 columns):\n",
      " #   Column             Non-Null Count  Dtype   \n",
      "---  ------             --------------  -----   \n",
      " 0   Name               7253 non-null   object  \n",
      " 1   Location           7253 non-null   object  \n",
      " 2   Year               7253 non-null   int64   \n",
      " 3   Kilometers_Driven  7253 non-null   int64   \n",
      " 4   Fuel_Type          7253 non-null   category\n",
      " 5   Transmission       7253 non-null   category\n",
      " 6   Owner_Type         7253 non-null   category\n",
      " 7   Mileage            7251 non-null   float64 \n",
      " 8   Engine             7207 non-null   float64 \n",
      " 9   Power              7078 non-null   float64 \n",
      " 10  Seats              7200 non-null   float64 \n",
      " 11  New_Price          1006 non-null   float64 \n",
      " 12  Price              6019 non-null   float64 \n",
      "dtypes: category(3), float64(6), int64(2), object(2)\n",
      "memory usage: 588.5+ KB\n"
     ]
    }
   ],
   "source": [
    "#checking if correct changes occured\n",
    "df.info()"
   ]
  },
  {
   "cell_type": "markdown",
   "id": "cbb5cbed",
   "metadata": {},
   "source": [
    "- Fuel_Type, Transmission and Owner_Type hae become categories\n",
    "- Mileage, Engine, Power and New_Price have become floats \n",
    "- we can see memory usage has decreased from 793.4+ KB to 645.2+ KB"
   ]
  },
  {
   "cell_type": "markdown",
   "id": "902d0ce1",
   "metadata": {},
   "source": [
    "## Checking null and inferenced pre-processing"
   ]
  },
  {
   "cell_type": "code",
   "execution_count": 15,
   "id": "d667b19f",
   "metadata": {},
   "outputs": [
    {
     "data": {
      "text/plain": [
       "Name                    0\n",
       "Location                0\n",
       "Year                    0\n",
       "Kilometers_Driven       0\n",
       "Fuel_Type               0\n",
       "Transmission            0\n",
       "Owner_Type              0\n",
       "Mileage                 2\n",
       "Engine                 46\n",
       "Power                 175\n",
       "Seats                  53\n",
       "New_Price            6247\n",
       "Price                1234\n",
       "dtype: int64"
      ]
     },
     "execution_count": 15,
     "metadata": {},
     "output_type": "execute_result"
    }
   ],
   "source": [
    "# checking for missing values in the data.\n",
    "df.isnull().sum()"
   ]
  },
  {
   "cell_type": "code",
   "execution_count": 16,
   "id": "c10a3066",
   "metadata": {},
   "outputs": [
    {
     "data": {
      "text/html": [
       "<div>\n",
       "<style scoped>\n",
       "    .dataframe tbody tr th:only-of-type {\n",
       "        vertical-align: middle;\n",
       "    }\n",
       "\n",
       "    .dataframe tbody tr th {\n",
       "        vertical-align: top;\n",
       "    }\n",
       "\n",
       "    .dataframe thead th {\n",
       "        text-align: right;\n",
       "    }\n",
       "</style>\n",
       "<table border=\"1\" class=\"dataframe\">\n",
       "  <thead>\n",
       "    <tr style=\"text-align: right;\">\n",
       "      <th></th>\n",
       "      <th>count</th>\n",
       "      <th>unique</th>\n",
       "      <th>top</th>\n",
       "      <th>freq</th>\n",
       "      <th>mean</th>\n",
       "      <th>std</th>\n",
       "      <th>min</th>\n",
       "      <th>25%</th>\n",
       "      <th>50%</th>\n",
       "      <th>75%</th>\n",
       "      <th>max</th>\n",
       "    </tr>\n",
       "  </thead>\n",
       "  <tbody>\n",
       "    <tr>\n",
       "      <th>Name</th>\n",
       "      <td>7253</td>\n",
       "      <td>2041</td>\n",
       "      <td>Mahindra XUV500 W8 2WD</td>\n",
       "      <td>55</td>\n",
       "      <td>NaN</td>\n",
       "      <td>NaN</td>\n",
       "      <td>NaN</td>\n",
       "      <td>NaN</td>\n",
       "      <td>NaN</td>\n",
       "      <td>NaN</td>\n",
       "      <td>NaN</td>\n",
       "    </tr>\n",
       "    <tr>\n",
       "      <th>Location</th>\n",
       "      <td>7253</td>\n",
       "      <td>11</td>\n",
       "      <td>Mumbai</td>\n",
       "      <td>949</td>\n",
       "      <td>NaN</td>\n",
       "      <td>NaN</td>\n",
       "      <td>NaN</td>\n",
       "      <td>NaN</td>\n",
       "      <td>NaN</td>\n",
       "      <td>NaN</td>\n",
       "      <td>NaN</td>\n",
       "    </tr>\n",
       "    <tr>\n",
       "      <th>Year</th>\n",
       "      <td>7253.0</td>\n",
       "      <td>NaN</td>\n",
       "      <td>NaN</td>\n",
       "      <td>NaN</td>\n",
       "      <td>2013.365366</td>\n",
       "      <td>3.254421</td>\n",
       "      <td>1996.0</td>\n",
       "      <td>2011.0</td>\n",
       "      <td>2014.0</td>\n",
       "      <td>2016.0</td>\n",
       "      <td>2019.0</td>\n",
       "    </tr>\n",
       "    <tr>\n",
       "      <th>Kilometers_Driven</th>\n",
       "      <td>7253.0</td>\n",
       "      <td>NaN</td>\n",
       "      <td>NaN</td>\n",
       "      <td>NaN</td>\n",
       "      <td>58699.063146</td>\n",
       "      <td>84427.720583</td>\n",
       "      <td>171.0</td>\n",
       "      <td>34000.0</td>\n",
       "      <td>53416.0</td>\n",
       "      <td>73000.0</td>\n",
       "      <td>6500000.0</td>\n",
       "    </tr>\n",
       "    <tr>\n",
       "      <th>Fuel_Type</th>\n",
       "      <td>7253</td>\n",
       "      <td>5</td>\n",
       "      <td>Diesel</td>\n",
       "      <td>3852</td>\n",
       "      <td>NaN</td>\n",
       "      <td>NaN</td>\n",
       "      <td>NaN</td>\n",
       "      <td>NaN</td>\n",
       "      <td>NaN</td>\n",
       "      <td>NaN</td>\n",
       "      <td>NaN</td>\n",
       "    </tr>\n",
       "    <tr>\n",
       "      <th>Transmission</th>\n",
       "      <td>7253</td>\n",
       "      <td>2</td>\n",
       "      <td>Manual</td>\n",
       "      <td>5204</td>\n",
       "      <td>NaN</td>\n",
       "      <td>NaN</td>\n",
       "      <td>NaN</td>\n",
       "      <td>NaN</td>\n",
       "      <td>NaN</td>\n",
       "      <td>NaN</td>\n",
       "      <td>NaN</td>\n",
       "    </tr>\n",
       "    <tr>\n",
       "      <th>Owner_Type</th>\n",
       "      <td>7253</td>\n",
       "      <td>4</td>\n",
       "      <td>First</td>\n",
       "      <td>5952</td>\n",
       "      <td>NaN</td>\n",
       "      <td>NaN</td>\n",
       "      <td>NaN</td>\n",
       "      <td>NaN</td>\n",
       "      <td>NaN</td>\n",
       "      <td>NaN</td>\n",
       "      <td>NaN</td>\n",
       "    </tr>\n",
       "    <tr>\n",
       "      <th>Mileage</th>\n",
       "      <td>7251.0</td>\n",
       "      <td>NaN</td>\n",
       "      <td>NaN</td>\n",
       "      <td>NaN</td>\n",
       "      <td>18.14158</td>\n",
       "      <td>4.562197</td>\n",
       "      <td>0.0</td>\n",
       "      <td>15.17</td>\n",
       "      <td>18.16</td>\n",
       "      <td>21.1</td>\n",
       "      <td>33.54</td>\n",
       "    </tr>\n",
       "    <tr>\n",
       "      <th>Engine</th>\n",
       "      <td>7207.0</td>\n",
       "      <td>NaN</td>\n",
       "      <td>NaN</td>\n",
       "      <td>NaN</td>\n",
       "      <td>1616.57347</td>\n",
       "      <td>595.285137</td>\n",
       "      <td>72.0</td>\n",
       "      <td>1198.0</td>\n",
       "      <td>1493.0</td>\n",
       "      <td>1968.0</td>\n",
       "      <td>5998.0</td>\n",
       "    </tr>\n",
       "    <tr>\n",
       "      <th>Power</th>\n",
       "      <td>7078.0</td>\n",
       "      <td>NaN</td>\n",
       "      <td>NaN</td>\n",
       "      <td>NaN</td>\n",
       "      <td>112.765214</td>\n",
       "      <td>53.493553</td>\n",
       "      <td>34.2</td>\n",
       "      <td>75.0</td>\n",
       "      <td>94.0</td>\n",
       "      <td>138.1</td>\n",
       "      <td>616.0</td>\n",
       "    </tr>\n",
       "    <tr>\n",
       "      <th>Seats</th>\n",
       "      <td>7200.0</td>\n",
       "      <td>NaN</td>\n",
       "      <td>NaN</td>\n",
       "      <td>NaN</td>\n",
       "      <td>5.279722</td>\n",
       "      <td>0.81166</td>\n",
       "      <td>0.0</td>\n",
       "      <td>5.0</td>\n",
       "      <td>5.0</td>\n",
       "      <td>5.0</td>\n",
       "      <td>10.0</td>\n",
       "    </tr>\n",
       "    <tr>\n",
       "      <th>New_Price</th>\n",
       "      <td>1006.0</td>\n",
       "      <td>NaN</td>\n",
       "      <td>NaN</td>\n",
       "      <td>NaN</td>\n",
       "      <td>19.894324</td>\n",
       "      <td>19.813947</td>\n",
       "      <td>1.0</td>\n",
       "      <td>7.635</td>\n",
       "      <td>11.27</td>\n",
       "      <td>23.64</td>\n",
       "      <td>99.92</td>\n",
       "    </tr>\n",
       "    <tr>\n",
       "      <th>Price</th>\n",
       "      <td>6019.0</td>\n",
       "      <td>NaN</td>\n",
       "      <td>NaN</td>\n",
       "      <td>NaN</td>\n",
       "      <td>9.479468</td>\n",
       "      <td>11.187917</td>\n",
       "      <td>0.44</td>\n",
       "      <td>3.5</td>\n",
       "      <td>5.64</td>\n",
       "      <td>9.95</td>\n",
       "      <td>160.0</td>\n",
       "    </tr>\n",
       "  </tbody>\n",
       "</table>\n",
       "</div>"
      ],
      "text/plain": [
       "                    count unique                     top  freq          mean  \\\n",
       "Name                 7253   2041  Mahindra XUV500 W8 2WD    55           NaN   \n",
       "Location             7253     11                  Mumbai   949           NaN   \n",
       "Year               7253.0    NaN                     NaN   NaN   2013.365366   \n",
       "Kilometers_Driven  7253.0    NaN                     NaN   NaN  58699.063146   \n",
       "Fuel_Type            7253      5                  Diesel  3852           NaN   \n",
       "Transmission         7253      2                  Manual  5204           NaN   \n",
       "Owner_Type           7253      4                   First  5952           NaN   \n",
       "Mileage            7251.0    NaN                     NaN   NaN      18.14158   \n",
       "Engine             7207.0    NaN                     NaN   NaN    1616.57347   \n",
       "Power              7078.0    NaN                     NaN   NaN    112.765214   \n",
       "Seats              7200.0    NaN                     NaN   NaN      5.279722   \n",
       "New_Price          1006.0    NaN                     NaN   NaN     19.894324   \n",
       "Price              6019.0    NaN                     NaN   NaN      9.479468   \n",
       "\n",
       "                            std     min      25%      50%      75%        max  \n",
       "Name                        NaN     NaN      NaN      NaN      NaN        NaN  \n",
       "Location                    NaN     NaN      NaN      NaN      NaN        NaN  \n",
       "Year                   3.254421  1996.0   2011.0   2014.0   2016.0     2019.0  \n",
       "Kilometers_Driven  84427.720583   171.0  34000.0  53416.0  73000.0  6500000.0  \n",
       "Fuel_Type                   NaN     NaN      NaN      NaN      NaN        NaN  \n",
       "Transmission                NaN     NaN      NaN      NaN      NaN        NaN  \n",
       "Owner_Type                  NaN     NaN      NaN      NaN      NaN        NaN  \n",
       "Mileage                4.562197     0.0    15.17    18.16     21.1      33.54  \n",
       "Engine               595.285137    72.0   1198.0   1493.0   1968.0     5998.0  \n",
       "Power                 53.493553    34.2     75.0     94.0    138.1      616.0  \n",
       "Seats                   0.81166     0.0      5.0      5.0      5.0       10.0  \n",
       "New_Price             19.813947     1.0    7.635    11.27    23.64      99.92  \n",
       "Price                 11.187917    0.44      3.5     5.64     9.95      160.0  "
      ]
     },
     "execution_count": 16,
     "metadata": {},
     "output_type": "execute_result"
    }
   ],
   "source": [
    "# Let's look at the statistical summary of the data\n",
    "df.describe(include=\"all\").T"
   ]
  },
  {
   "cell_type": "markdown",
   "id": "2eafa9e2",
   "metadata": {},
   "source": [
    "- All Quartiles of seats is 5 suggesting that 5 is the most dominant number of seats\n",
    "- Diesel is the most occuring fuel type\n",
    "- The most occuring Transmission is manual\n",
    "- The most frequent type of owner is First time owner\n",
    "- Kilometers_Driven on the cars has a wide range starting from 171km going to 650,000km  "
   ]
  },
  {
   "cell_type": "markdown",
   "id": "2a11033f",
   "metadata": {},
   "source": [
    "## Data Preprocessing - Missing Value Treatment"
   ]
  },
  {
   "cell_type": "markdown",
   "id": "a186d503",
   "metadata": {},
   "source": [
    "### Dropping missing values from the <i>Price</i> column as it is the independent variable"
   ]
  },
  {
   "cell_type": "code",
   "execution_count": 17,
   "id": "53afb6f3",
   "metadata": {},
   "outputs": [],
   "source": [
    "df.dropna(subset=[\"Price\"], inplace=True)"
   ]
  },
  {
   "cell_type": "code",
   "execution_count": 18,
   "id": "5e258b3a",
   "metadata": {},
   "outputs": [
    {
     "data": {
      "text/plain": [
       "Name                    0\n",
       "Location                0\n",
       "Year                    0\n",
       "Kilometers_Driven       0\n",
       "Fuel_Type               0\n",
       "Transmission            0\n",
       "Owner_Type              0\n",
       "Mileage                 2\n",
       "Engine                 36\n",
       "Power                 143\n",
       "Seats                  42\n",
       "New_Price            5195\n",
       "Price                   0\n",
       "dtype: int64"
      ]
     },
     "execution_count": 18,
     "metadata": {},
     "output_type": "execute_result"
    }
   ],
   "source": [
    "# checking missing values in rest of the data\n",
    "df.isnull().sum()"
   ]
  },
  {
   "cell_type": "markdown",
   "id": "c21ac8bd",
   "metadata": {},
   "source": [
    "### Look at entries with no New Price"
   ]
  },
  {
   "cell_type": "code",
   "execution_count": 19,
   "id": "0ac8974a",
   "metadata": {},
   "outputs": [
    {
     "data": {
      "text/html": [
       "<div>\n",
       "<style scoped>\n",
       "    .dataframe tbody tr th:only-of-type {\n",
       "        vertical-align: middle;\n",
       "    }\n",
       "\n",
       "    .dataframe tbody tr th {\n",
       "        vertical-align: top;\n",
       "    }\n",
       "\n",
       "    .dataframe thead th {\n",
       "        text-align: right;\n",
       "    }\n",
       "</style>\n",
       "<table border=\"1\" class=\"dataframe\">\n",
       "  <thead>\n",
       "    <tr style=\"text-align: right;\">\n",
       "      <th></th>\n",
       "      <th>Name</th>\n",
       "      <th>Location</th>\n",
       "      <th>Year</th>\n",
       "      <th>Kilometers_Driven</th>\n",
       "      <th>Fuel_Type</th>\n",
       "      <th>Transmission</th>\n",
       "      <th>Owner_Type</th>\n",
       "      <th>Mileage</th>\n",
       "      <th>Engine</th>\n",
       "      <th>Power</th>\n",
       "      <th>Seats</th>\n",
       "      <th>New_Price</th>\n",
       "      <th>Price</th>\n",
       "    </tr>\n",
       "  </thead>\n",
       "  <tbody>\n",
       "    <tr>\n",
       "      <th>0</th>\n",
       "      <td>Maruti Wagon R LXI CNG</td>\n",
       "      <td>Mumbai</td>\n",
       "      <td>2010</td>\n",
       "      <td>72000</td>\n",
       "      <td>CNG</td>\n",
       "      <td>Manual</td>\n",
       "      <td>First</td>\n",
       "      <td>26.60</td>\n",
       "      <td>998.0</td>\n",
       "      <td>58.16</td>\n",
       "      <td>5.0</td>\n",
       "      <td>NaN</td>\n",
       "      <td>1.75</td>\n",
       "    </tr>\n",
       "    <tr>\n",
       "      <th>1</th>\n",
       "      <td>Hyundai Creta 1.6 CRDi SX Option</td>\n",
       "      <td>Pune</td>\n",
       "      <td>2015</td>\n",
       "      <td>41000</td>\n",
       "      <td>Diesel</td>\n",
       "      <td>Manual</td>\n",
       "      <td>First</td>\n",
       "      <td>19.67</td>\n",
       "      <td>1582.0</td>\n",
       "      <td>126.20</td>\n",
       "      <td>5.0</td>\n",
       "      <td>NaN</td>\n",
       "      <td>12.50</td>\n",
       "    </tr>\n",
       "    <tr>\n",
       "      <th>3</th>\n",
       "      <td>Maruti Ertiga VDI</td>\n",
       "      <td>Chennai</td>\n",
       "      <td>2012</td>\n",
       "      <td>87000</td>\n",
       "      <td>Diesel</td>\n",
       "      <td>Manual</td>\n",
       "      <td>First</td>\n",
       "      <td>20.77</td>\n",
       "      <td>1248.0</td>\n",
       "      <td>88.76</td>\n",
       "      <td>7.0</td>\n",
       "      <td>NaN</td>\n",
       "      <td>6.00</td>\n",
       "    </tr>\n",
       "    <tr>\n",
       "      <th>4</th>\n",
       "      <td>Audi A4 New 2.0 TDI Multitronic</td>\n",
       "      <td>Coimbatore</td>\n",
       "      <td>2013</td>\n",
       "      <td>40670</td>\n",
       "      <td>Diesel</td>\n",
       "      <td>Automatic</td>\n",
       "      <td>Second</td>\n",
       "      <td>15.20</td>\n",
       "      <td>1968.0</td>\n",
       "      <td>140.80</td>\n",
       "      <td>5.0</td>\n",
       "      <td>NaN</td>\n",
       "      <td>17.74</td>\n",
       "    </tr>\n",
       "    <tr>\n",
       "      <th>5</th>\n",
       "      <td>Hyundai EON LPG Era Plus Option</td>\n",
       "      <td>Hyderabad</td>\n",
       "      <td>2012</td>\n",
       "      <td>75000</td>\n",
       "      <td>LPG</td>\n",
       "      <td>Manual</td>\n",
       "      <td>First</td>\n",
       "      <td>21.10</td>\n",
       "      <td>814.0</td>\n",
       "      <td>55.20</td>\n",
       "      <td>5.0</td>\n",
       "      <td>NaN</td>\n",
       "      <td>2.35</td>\n",
       "    </tr>\n",
       "    <tr>\n",
       "      <th>...</th>\n",
       "      <td>...</td>\n",
       "      <td>...</td>\n",
       "      <td>...</td>\n",
       "      <td>...</td>\n",
       "      <td>...</td>\n",
       "      <td>...</td>\n",
       "      <td>...</td>\n",
       "      <td>...</td>\n",
       "      <td>...</td>\n",
       "      <td>...</td>\n",
       "      <td>...</td>\n",
       "      <td>...</td>\n",
       "      <td>...</td>\n",
       "    </tr>\n",
       "    <tr>\n",
       "      <th>6013</th>\n",
       "      <td>Honda Amaze VX i-DTEC</td>\n",
       "      <td>Coimbatore</td>\n",
       "      <td>2015</td>\n",
       "      <td>70602</td>\n",
       "      <td>Diesel</td>\n",
       "      <td>Manual</td>\n",
       "      <td>First</td>\n",
       "      <td>25.80</td>\n",
       "      <td>1498.0</td>\n",
       "      <td>98.60</td>\n",
       "      <td>5.0</td>\n",
       "      <td>NaN</td>\n",
       "      <td>4.83</td>\n",
       "    </tr>\n",
       "    <tr>\n",
       "      <th>6015</th>\n",
       "      <td>Hyundai Xcent 1.1 CRDi S</td>\n",
       "      <td>Jaipur</td>\n",
       "      <td>2015</td>\n",
       "      <td>100000</td>\n",
       "      <td>Diesel</td>\n",
       "      <td>Manual</td>\n",
       "      <td>First</td>\n",
       "      <td>24.40</td>\n",
       "      <td>1120.0</td>\n",
       "      <td>71.00</td>\n",
       "      <td>5.0</td>\n",
       "      <td>NaN</td>\n",
       "      <td>4.00</td>\n",
       "    </tr>\n",
       "    <tr>\n",
       "      <th>6016</th>\n",
       "      <td>Mahindra Xylo D4 BSIV</td>\n",
       "      <td>Jaipur</td>\n",
       "      <td>2012</td>\n",
       "      <td>55000</td>\n",
       "      <td>Diesel</td>\n",
       "      <td>Manual</td>\n",
       "      <td>Second</td>\n",
       "      <td>14.00</td>\n",
       "      <td>2498.0</td>\n",
       "      <td>112.00</td>\n",
       "      <td>8.0</td>\n",
       "      <td>NaN</td>\n",
       "      <td>2.90</td>\n",
       "    </tr>\n",
       "    <tr>\n",
       "      <th>6017</th>\n",
       "      <td>Maruti Wagon R VXI</td>\n",
       "      <td>Kolkata</td>\n",
       "      <td>2013</td>\n",
       "      <td>46000</td>\n",
       "      <td>Petrol</td>\n",
       "      <td>Manual</td>\n",
       "      <td>First</td>\n",
       "      <td>18.90</td>\n",
       "      <td>998.0</td>\n",
       "      <td>67.10</td>\n",
       "      <td>5.0</td>\n",
       "      <td>NaN</td>\n",
       "      <td>2.65</td>\n",
       "    </tr>\n",
       "    <tr>\n",
       "      <th>6018</th>\n",
       "      <td>Chevrolet Beat Diesel</td>\n",
       "      <td>Hyderabad</td>\n",
       "      <td>2011</td>\n",
       "      <td>47000</td>\n",
       "      <td>Diesel</td>\n",
       "      <td>Manual</td>\n",
       "      <td>First</td>\n",
       "      <td>25.44</td>\n",
       "      <td>936.0</td>\n",
       "      <td>57.60</td>\n",
       "      <td>5.0</td>\n",
       "      <td>NaN</td>\n",
       "      <td>2.50</td>\n",
       "    </tr>\n",
       "  </tbody>\n",
       "</table>\n",
       "<p>5195 rows × 13 columns</p>\n",
       "</div>"
      ],
      "text/plain": [
       "                                  Name    Location  Year  Kilometers_Driven  \\\n",
       "0               Maruti Wagon R LXI CNG      Mumbai  2010              72000   \n",
       "1     Hyundai Creta 1.6 CRDi SX Option        Pune  2015              41000   \n",
       "3                    Maruti Ertiga VDI     Chennai  2012              87000   \n",
       "4      Audi A4 New 2.0 TDI Multitronic  Coimbatore  2013              40670   \n",
       "5      Hyundai EON LPG Era Plus Option   Hyderabad  2012              75000   \n",
       "...                                ...         ...   ...                ...   \n",
       "6013             Honda Amaze VX i-DTEC  Coimbatore  2015              70602   \n",
       "6015          Hyundai Xcent 1.1 CRDi S      Jaipur  2015             100000   \n",
       "6016             Mahindra Xylo D4 BSIV      Jaipur  2012              55000   \n",
       "6017                Maruti Wagon R VXI     Kolkata  2013              46000   \n",
       "6018             Chevrolet Beat Diesel   Hyderabad  2011              47000   \n",
       "\n",
       "     Fuel_Type Transmission Owner_Type  Mileage  Engine   Power  Seats  \\\n",
       "0          CNG       Manual      First    26.60   998.0   58.16    5.0   \n",
       "1       Diesel       Manual      First    19.67  1582.0  126.20    5.0   \n",
       "3       Diesel       Manual      First    20.77  1248.0   88.76    7.0   \n",
       "4       Diesel    Automatic     Second    15.20  1968.0  140.80    5.0   \n",
       "5          LPG       Manual      First    21.10   814.0   55.20    5.0   \n",
       "...        ...          ...        ...      ...     ...     ...    ...   \n",
       "6013    Diesel       Manual      First    25.80  1498.0   98.60    5.0   \n",
       "6015    Diesel       Manual      First    24.40  1120.0   71.00    5.0   \n",
       "6016    Diesel       Manual     Second    14.00  2498.0  112.00    8.0   \n",
       "6017    Petrol       Manual      First    18.90   998.0   67.10    5.0   \n",
       "6018    Diesel       Manual      First    25.44   936.0   57.60    5.0   \n",
       "\n",
       "      New_Price  Price  \n",
       "0           NaN   1.75  \n",
       "1           NaN  12.50  \n",
       "3           NaN   6.00  \n",
       "4           NaN  17.74  \n",
       "5           NaN   2.35  \n",
       "...         ...    ...  \n",
       "6013        NaN   4.83  \n",
       "6015        NaN   4.00  \n",
       "6016        NaN   2.90  \n",
       "6017        NaN   2.65  \n",
       "6018        NaN   2.50  \n",
       "\n",
       "[5195 rows x 13 columns]"
      ]
     },
     "execution_count": 19,
     "metadata": {},
     "output_type": "execute_result"
    }
   ],
   "source": [
    "df[df.New_Price.isnull()]"
   ]
  },
  {
   "cell_type": "markdown",
   "id": "d8ae0ae7",
   "metadata": {},
   "source": [
    "- Since it is difficult to impute the new price for various car models we will drop the entries."
   ]
  },
  {
   "cell_type": "code",
   "execution_count": 20,
   "id": "f1fbc707",
   "metadata": {},
   "outputs": [],
   "source": [
    "df.dropna(subset=[\"New_Price\"], inplace=True)"
   ]
  },
  {
   "cell_type": "code",
   "execution_count": 21,
   "id": "dce10fa6",
   "metadata": {},
   "outputs": [
    {
     "data": {
      "text/plain": [
       "Name                 0\n",
       "Location             0\n",
       "Year                 0\n",
       "Kilometers_Driven    0\n",
       "Fuel_Type            0\n",
       "Transmission         0\n",
       "Owner_Type           0\n",
       "Mileage              1\n",
       "Engine               0\n",
       "Power                0\n",
       "Seats                0\n",
       "New_Price            0\n",
       "Price                0\n",
       "dtype: int64"
      ]
     },
     "execution_count": 21,
     "metadata": {},
     "output_type": "execute_result"
    }
   ],
   "source": [
    "# checking missing values in rest of the data\n",
    "df.isnull().sum()"
   ]
  },
  {
   "cell_type": "code",
   "execution_count": 22,
   "id": "0f8f71ed",
   "metadata": {},
   "outputs": [],
   "source": [
    "### Looking at entries with no Mileage"
   ]
  },
  {
   "cell_type": "code",
   "execution_count": 23,
   "id": "b504740a",
   "metadata": {},
   "outputs": [
    {
     "data": {
      "text/html": [
       "<div>\n",
       "<style scoped>\n",
       "    .dataframe tbody tr th:only-of-type {\n",
       "        vertical-align: middle;\n",
       "    }\n",
       "\n",
       "    .dataframe tbody tr th {\n",
       "        vertical-align: top;\n",
       "    }\n",
       "\n",
       "    .dataframe thead th {\n",
       "        text-align: right;\n",
       "    }\n",
       "</style>\n",
       "<table border=\"1\" class=\"dataframe\">\n",
       "  <thead>\n",
       "    <tr style=\"text-align: right;\">\n",
       "      <th></th>\n",
       "      <th>Name</th>\n",
       "      <th>Location</th>\n",
       "      <th>Year</th>\n",
       "      <th>Kilometers_Driven</th>\n",
       "      <th>Fuel_Type</th>\n",
       "      <th>Transmission</th>\n",
       "      <th>Owner_Type</th>\n",
       "      <th>Mileage</th>\n",
       "      <th>Engine</th>\n",
       "      <th>Power</th>\n",
       "      <th>Seats</th>\n",
       "      <th>New_Price</th>\n",
       "      <th>Price</th>\n",
       "    </tr>\n",
       "  </thead>\n",
       "  <tbody>\n",
       "    <tr>\n",
       "      <th>4446</th>\n",
       "      <td>Mahindra E Verito D4</td>\n",
       "      <td>Chennai</td>\n",
       "      <td>2016</td>\n",
       "      <td>50000</td>\n",
       "      <td>Electric</td>\n",
       "      <td>Automatic</td>\n",
       "      <td>First</td>\n",
       "      <td>NaN</td>\n",
       "      <td>72.0</td>\n",
       "      <td>41.0</td>\n",
       "      <td>5.0</td>\n",
       "      <td>13.58</td>\n",
       "      <td>13.0</td>\n",
       "    </tr>\n",
       "  </tbody>\n",
       "</table>\n",
       "</div>"
      ],
      "text/plain": [
       "                      Name Location  Year  Kilometers_Driven Fuel_Type  \\\n",
       "4446  Mahindra E Verito D4  Chennai  2016              50000  Electric   \n",
       "\n",
       "     Transmission Owner_Type  Mileage  Engine  Power  Seats  New_Price  Price  \n",
       "4446    Automatic      First      NaN    72.0   41.0    5.0      13.58   13.0  "
      ]
     },
     "execution_count": 23,
     "metadata": {},
     "output_type": "execute_result"
    }
   ],
   "source": [
    "df[df.Mileage.isnull()]"
   ]
  },
  {
   "cell_type": "markdown",
   "id": "b4375168",
   "metadata": {},
   "source": [
    "- While mileage is difficult to impute, because it is only a singular car we can check for skew and then use either the mean or median mileage"
   ]
  },
  {
   "cell_type": "code",
   "execution_count": 24,
   "id": "2473c445",
   "metadata": {},
   "outputs": [],
   "source": [
    "mileage = df.dropna(subset=[\"Mileage\"], inplace=False)"
   ]
  },
  {
   "cell_type": "code",
   "execution_count": 25,
   "id": "3ed91678",
   "metadata": {},
   "outputs": [
    {
     "data": {
      "text/html": [
       "<div>\n",
       "<style scoped>\n",
       "    .dataframe tbody tr th:only-of-type {\n",
       "        vertical-align: middle;\n",
       "    }\n",
       "\n",
       "    .dataframe tbody tr th {\n",
       "        vertical-align: top;\n",
       "    }\n",
       "\n",
       "    .dataframe thead th {\n",
       "        text-align: right;\n",
       "    }\n",
       "</style>\n",
       "<table border=\"1\" class=\"dataframe\">\n",
       "  <thead>\n",
       "    <tr style=\"text-align: right;\">\n",
       "      <th></th>\n",
       "      <th>Year</th>\n",
       "      <th>Kilometers_Driven</th>\n",
       "      <th>Mileage</th>\n",
       "      <th>Engine</th>\n",
       "      <th>Power</th>\n",
       "      <th>Seats</th>\n",
       "      <th>New_Price</th>\n",
       "      <th>Price</th>\n",
       "    </tr>\n",
       "  </thead>\n",
       "  <tbody>\n",
       "    <tr>\n",
       "      <th>count</th>\n",
       "      <td>823.000000</td>\n",
       "      <td>823.000000</td>\n",
       "      <td>823.000000</td>\n",
       "      <td>823.000000</td>\n",
       "      <td>823.000000</td>\n",
       "      <td>823.000000</td>\n",
       "      <td>823.000000</td>\n",
       "      <td>823.000000</td>\n",
       "    </tr>\n",
       "    <tr>\n",
       "      <th>mean</th>\n",
       "      <td>2015.869988</td>\n",
       "      <td>40498.402187</td>\n",
       "      <td>19.575589</td>\n",
       "      <td>1615.489672</td>\n",
       "      <td>120.227995</td>\n",
       "      <td>5.304982</td>\n",
       "      <td>20.328906</td>\n",
       "      <td>13.647606</td>\n",
       "    </tr>\n",
       "    <tr>\n",
       "      <th>std</th>\n",
       "      <td>2.378709</td>\n",
       "      <td>28791.171759</td>\n",
       "      <td>4.614245</td>\n",
       "      <td>562.811691</td>\n",
       "      <td>55.623259</td>\n",
       "      <td>0.795707</td>\n",
       "      <td>20.209032</td>\n",
       "      <td>14.860539</td>\n",
       "    </tr>\n",
       "    <tr>\n",
       "      <th>min</th>\n",
       "      <td>2001.000000</td>\n",
       "      <td>600.000000</td>\n",
       "      <td>0.000000</td>\n",
       "      <td>799.000000</td>\n",
       "      <td>53.000000</td>\n",
       "      <td>2.000000</td>\n",
       "      <td>1.000000</td>\n",
       "      <td>0.700000</td>\n",
       "    </tr>\n",
       "    <tr>\n",
       "      <th>25%</th>\n",
       "      <td>2015.000000</td>\n",
       "      <td>20487.500000</td>\n",
       "      <td>16.770000</td>\n",
       "      <td>1197.000000</td>\n",
       "      <td>81.860000</td>\n",
       "      <td>5.000000</td>\n",
       "      <td>7.840000</td>\n",
       "      <td>5.000000</td>\n",
       "    </tr>\n",
       "    <tr>\n",
       "      <th>50%</th>\n",
       "      <td>2016.000000</td>\n",
       "      <td>34895.000000</td>\n",
       "      <td>19.160000</td>\n",
       "      <td>1497.000000</td>\n",
       "      <td>99.000000</td>\n",
       "      <td>5.000000</td>\n",
       "      <td>11.390000</td>\n",
       "      <td>8.200000</td>\n",
       "    </tr>\n",
       "    <tr>\n",
       "      <th>75%</th>\n",
       "      <td>2017.000000</td>\n",
       "      <td>53829.000000</td>\n",
       "      <td>22.690000</td>\n",
       "      <td>1995.000000</td>\n",
       "      <td>166.850000</td>\n",
       "      <td>5.000000</td>\n",
       "      <td>24.010000</td>\n",
       "      <td>17.500000</td>\n",
       "    </tr>\n",
       "    <tr>\n",
       "      <th>max</th>\n",
       "      <td>2019.000000</td>\n",
       "      <td>215000.000000</td>\n",
       "      <td>33.540000</td>\n",
       "      <td>4951.000000</td>\n",
       "      <td>444.000000</td>\n",
       "      <td>8.000000</td>\n",
       "      <td>99.920000</td>\n",
       "      <td>160.000000</td>\n",
       "    </tr>\n",
       "  </tbody>\n",
       "</table>\n",
       "</div>"
      ],
      "text/plain": [
       "              Year  Kilometers_Driven     Mileage       Engine       Power  \\\n",
       "count   823.000000         823.000000  823.000000   823.000000  823.000000   \n",
       "mean   2015.869988       40498.402187   19.575589  1615.489672  120.227995   \n",
       "std       2.378709       28791.171759    4.614245   562.811691   55.623259   \n",
       "min    2001.000000         600.000000    0.000000   799.000000   53.000000   \n",
       "25%    2015.000000       20487.500000   16.770000  1197.000000   81.860000   \n",
       "50%    2016.000000       34895.000000   19.160000  1497.000000   99.000000   \n",
       "75%    2017.000000       53829.000000   22.690000  1995.000000  166.850000   \n",
       "max    2019.000000      215000.000000   33.540000  4951.000000  444.000000   \n",
       "\n",
       "            Seats   New_Price       Price  \n",
       "count  823.000000  823.000000  823.000000  \n",
       "mean     5.304982   20.328906   13.647606  \n",
       "std      0.795707   20.209032   14.860539  \n",
       "min      2.000000    1.000000    0.700000  \n",
       "25%      5.000000    7.840000    5.000000  \n",
       "50%      5.000000   11.390000    8.200000  \n",
       "75%      5.000000   24.010000   17.500000  \n",
       "max      8.000000   99.920000  160.000000  "
      ]
     },
     "execution_count": 25,
     "metadata": {},
     "output_type": "execute_result"
    }
   ],
   "source": [
    "mileage.describe()"
   ]
  },
  {
   "cell_type": "code",
   "execution_count": 26,
   "id": "f0767eaa",
   "metadata": {},
   "outputs": [
    {
     "data": {
      "text/plain": [
       "19.16"
      ]
     },
     "execution_count": 26,
     "metadata": {},
     "output_type": "execute_result"
    }
   ],
   "source": [
    "mileage.Mileage.median()"
   ]
  },
  {
   "cell_type": "markdown",
   "id": "7492238f",
   "metadata": {},
   "source": [
    "- The Mean and Median of the mileage as slightly different, with the mean being larger indicating a slight right skew, we will use median to replace the value"
   ]
  },
  {
   "cell_type": "code",
   "execution_count": 27,
   "id": "640dc33d",
   "metadata": {},
   "outputs": [],
   "source": [
    "df['Mileage'].fillna(df['Mileage'].median(), inplace=True)"
   ]
  },
  {
   "cell_type": "code",
   "execution_count": 28,
   "id": "e093b8d5",
   "metadata": {},
   "outputs": [
    {
     "data": {
      "text/plain": [
       "Name                 0\n",
       "Location             0\n",
       "Year                 0\n",
       "Kilometers_Driven    0\n",
       "Fuel_Type            0\n",
       "Transmission         0\n",
       "Owner_Type           0\n",
       "Mileage              0\n",
       "Engine               0\n",
       "Power                0\n",
       "Seats                0\n",
       "New_Price            0\n",
       "Price                0\n",
       "dtype: int64"
      ]
     },
     "execution_count": 28,
     "metadata": {},
     "output_type": "execute_result"
    }
   ],
   "source": [
    "# checking missing values in rest of the data\n",
    "df.isnull().sum()"
   ]
  },
  {
   "cell_type": "markdown",
   "id": "f1299288",
   "metadata": {},
   "source": [
    "## Data Preprocessing - Outlier Treatment"
   ]
  },
  {
   "cell_type": "markdown",
   "id": "519f89ba",
   "metadata": {},
   "source": [
    "### Testing for the effect of outliers on data"
   ]
  },
  {
   "cell_type": "markdown",
   "id": "621aac2f",
   "metadata": {},
   "source": [
    "- For the purposes of this study significant theshold of outlier pull will be 5%+\n",
    "- Outliers calculated here are the extremes in the data set and are different from outliers references when looking at boxplot graphs later"
   ]
  },
  {
   "cell_type": "markdown",
   "id": "4afe7b7f",
   "metadata": {},
   "source": [
    "#### Kilometers_Driven"
   ]
  },
  {
   "cell_type": "code",
   "execution_count": 29,
   "id": "2772fb17",
   "metadata": {},
   "outputs": [
    {
     "name": "stdout",
     "output_type": "stream",
     "text": [
      "Q1 = 20487.75, Q3 = 53823.0, 4*IQR = 133341.0\n"
     ]
    },
    {
     "data": {
      "text/plain": [
       "838     215000\n",
       "1717    169000\n",
       "3640    169006\n",
       "5254    170000\n",
       "Name: Kilometers_Driven, dtype: int64"
      ]
     },
     "execution_count": 29,
     "metadata": {},
     "output_type": "execute_result"
    }
   ],
   "source": [
    "# checking via IQR, printing a list of outliers beyong 4*IQR\n",
    "quartiles = np.quantile(df['Kilometers_Driven'],[.25, .75])\n",
    "km_4iqr = 4 * (quartiles[1] - quartiles[0])\n",
    "print(f'Q1 = {quartiles[0]}, Q3 = {quartiles[1]}, 4*IQR = {km_4iqr}')\n",
    "outlier_km = df.loc[np.abs(df['Kilometers_Driven'] - df['Kilometers_Driven'].median()) > km_4iqr, 'Kilometers_Driven']\n",
    "outlier_km"
   ]
  },
  {
   "cell_type": "code",
   "execution_count": 30,
   "id": "b1434597",
   "metadata": {},
   "outputs": [],
   "source": [
    "# Creating a set without outliers\n",
    "Km = df['Kilometers_Driven']\n",
    "Km.drop(outlier_km.index, axis=0, inplace=True)"
   ]
  },
  {
   "cell_type": "code",
   "execution_count": 31,
   "id": "0f7c07b3",
   "metadata": {},
   "outputs": [
    {
     "name": "stdout",
     "output_type": "stream",
     "text": [
      "Original mean: 40509.93325242718\n",
      "Original median: 34897.5\n",
      "Dropped outliers mean: 39825.82804878049\n",
      "Dropped outliers median: 34687.0\n"
     ]
    }
   ],
   "source": [
    "#Checking differences in data\n",
    "print(f'Original mean: {df.Kilometers_Driven.mean()}')\n",
    "print(f'Original median: {df.Kilometers_Driven.median()}')\n",
    "print(f'Dropped outliers mean: {Km.mean()}')\n",
    "print(f'Dropped outliers median: {Km.median()}')"
   ]
  },
  {
   "cell_type": "markdown",
   "id": "c3b83100",
   "metadata": {},
   "source": [
    "- only 0.5 value change in median and 1.7% change in mean, seem to be robust against outliers, no need to change them"
   ]
  },
  {
   "cell_type": "markdown",
   "id": "96a7cbb6",
   "metadata": {},
   "source": [
    "#### Seats"
   ]
  },
  {
   "cell_type": "markdown",
   "id": "7f1590b1",
   "metadata": {},
   "source": [
    "- Seats can be treated as a category or float, Outliers matter within the context of price and so will not be changed"
   ]
  },
  {
   "cell_type": "markdown",
   "id": "b36bc2f7",
   "metadata": {},
   "source": [
    "#### Engine"
   ]
  },
  {
   "cell_type": "code",
   "execution_count": 32,
   "id": "a03e16c2",
   "metadata": {},
   "outputs": [
    {
     "name": "stdout",
     "output_type": "stream",
     "text": [
      "Q1 = 1197.0, Q3 = 1995.0, 4*IQR = 3192.0\n"
     ]
    },
    {
     "data": {
      "text/plain": [
       "4451    4951.0\n",
       "Name: Engine, dtype: float64"
      ]
     },
     "execution_count": 32,
     "metadata": {},
     "output_type": "execute_result"
    }
   ],
   "source": [
    "quartiles = np.quantile(df['Engine'],[.25, .75])\n",
    "engine_4iqr = 4 * (quartiles[1] - quartiles[0])\n",
    "print(f'Q1 = {quartiles[0]}, Q3 = {quartiles[1]}, 4*IQR = {engine_4iqr}')\n",
    "outlier_engine = df.loc[np.abs(df['Engine'] - df['Engine'].median()) > engine_4iqr, 'Engine']\n",
    "outlier_engine"
   ]
  },
  {
   "cell_type": "code",
   "execution_count": 33,
   "id": "58a2f5a5",
   "metadata": {},
   "outputs": [],
   "source": [
    "# Creating a set without outliers\n",
    "engine = df['Engine']\n",
    "engine.drop(outlier_engine.index, axis=0, inplace=True)"
   ]
  },
  {
   "cell_type": "code",
   "execution_count": 34,
   "id": "3555d9f7",
   "metadata": {
    "scrolled": true
   },
   "outputs": [
    {
     "name": "stdout",
     "output_type": "stream",
     "text": [
      "Original mean: 1613.616504854369\n",
      "Original median: 1497.0\n",
      "Dropped outliers mean: 1609.561360874848\n",
      "Dropped outliers median: 1497.0\n"
     ]
    }
   ],
   "source": [
    "#Checking differences in data\n",
    "print(f'Original mean: {df.Engine.mean()}')\n",
    "print(f'Original median: {df.Engine.median()}')\n",
    "print(f'Dropped outliers mean: {engine.mean()}')\n",
    "print(f'Dropped outliers median: {engine.median()}')"
   ]
  },
  {
   "cell_type": "markdown",
   "id": "4b47ba77",
   "metadata": {},
   "source": [
    "- Engine has only one outlier, median completely unaffected and mean is relatively robust to the data with only a change of 0.26%"
   ]
  },
  {
   "cell_type": "markdown",
   "id": "9c72632e",
   "metadata": {},
   "source": [
    "#### Power"
   ]
  },
  {
   "cell_type": "code",
   "execution_count": 35,
   "id": "2e718b9e",
   "metadata": {},
   "outputs": [
    {
     "name": "stdout",
     "output_type": "stream",
     "text": [
      "Q1 = 81.86, Q3 = 165.27499999999998, 4*IQR = 333.6599999999999\n"
     ]
    },
    {
     "data": {
      "text/plain": [
       "148     444.0\n",
       "4061    444.0\n",
       "Name: Power, dtype: float64"
      ]
     },
     "execution_count": 35,
     "metadata": {},
     "output_type": "execute_result"
    }
   ],
   "source": [
    "quartiles = np.quantile(df['Power'][df['Power'].notnull()], [.25, .75])\n",
    "power_4iqr = 4 * (quartiles[1] - quartiles[0])\n",
    "print(f'Q1 = {quartiles[0]}, Q3 = {quartiles[1]}, 4*IQR = {power_4iqr}')\n",
    "outlier_powers = df.loc[np.abs(df['Power'] - df['Power'].median()) > power_4iqr, 'Power']\n",
    "outlier_powers"
   ]
  },
  {
   "cell_type": "code",
   "execution_count": 36,
   "id": "0285c272",
   "metadata": {},
   "outputs": [],
   "source": [
    "# Creating a set without outliers\n",
    "power = df['Power']\n",
    "power.drop(outlier_powers.index, axis=0, inplace=True)"
   ]
  },
  {
   "cell_type": "code",
   "execution_count": 37,
   "id": "b422daa6",
   "metadata": {
    "scrolled": false
   },
   "outputs": [
    {
     "name": "stdout",
     "output_type": "stream",
     "text": [
      "Original mean: 120.13184466019439\n",
      "Original median: 99.0\n",
      "Dropped outliers mean: 119.34384428223863\n",
      "Dropped outliers median: 99.0\n"
     ]
    }
   ],
   "source": [
    "#Checking differences in data\n",
    "print(f'Original mean: {df.Power.mean()}')\n",
    "print(f'Original median: {df.Power.median()}')\n",
    "print(f'Dropped outliers mean: {power.mean()}')\n",
    "print(f'Dropped outliers median: {power.median()}')"
   ]
  },
  {
   "cell_type": "markdown",
   "id": "e81b3017",
   "metadata": {},
   "source": [
    "- Power has only two outliers, median completely unaffected and mean is relatively robust to the data with only a change of 0.66%"
   ]
  },
  {
   "cell_type": "markdown",
   "id": "f3ca193b",
   "metadata": {},
   "source": [
    "#### Mileage"
   ]
  },
  {
   "cell_type": "code",
   "execution_count": 38,
   "id": "5e273446",
   "metadata": {},
   "outputs": [
    {
     "name": "stdout",
     "output_type": "stream",
     "text": [
      "Q1 = 16.77, Q3 = 22.69, 4*IQR = 23.680000000000007\n"
     ]
    },
    {
     "data": {
      "text/plain": [
       "Series([], Name: Mileage, dtype: float64)"
      ]
     },
     "execution_count": 38,
     "metadata": {},
     "output_type": "execute_result"
    }
   ],
   "source": [
    "quartiles = np.quantile(df['Mileage'][df['Mileage'].notnull()], [.25, .75])\n",
    "mileage_4iqr = 4 * (quartiles[1] - quartiles[0])\n",
    "print(f'Q1 = {quartiles[0]}, Q3 = {quartiles[1]}, 4*IQR = {mileage_4iqr}')\n",
    "outlier_mileage = df.loc[np.abs(df['Mileage'] - df['Mileage'].median()) > mileage_4iqr, 'Mileage']\n",
    "outlier_mileage"
   ]
  },
  {
   "cell_type": "markdown",
   "id": "e8a52677",
   "metadata": {},
   "source": [
    "No outliers in Mileage to deal with"
   ]
  },
  {
   "cell_type": "markdown",
   "id": "285bf197",
   "metadata": {},
   "source": [
    "#### Price"
   ]
  },
  {
   "cell_type": "code",
   "execution_count": 39,
   "id": "c9369f14",
   "metadata": {},
   "outputs": [
    {
     "name": "stdout",
     "output_type": "stream",
     "text": [
      "Q1 = 5.0, Q3 = 17.5, 4*IQR = 50.0\n"
     ]
    },
    {
     "data": {
      "text/plain": [
       "264      61.29\n",
       "327      62.67\n",
       "418      70.99\n",
       "941      59.72\n",
       "1336     67.00\n",
       "1505     97.07\n",
       "1583     72.94\n",
       "1690     70.80\n",
       "1830     64.87\n",
       "1885     79.00\n",
       "2095     83.96\n",
       "2319     78.80\n",
       "2767     59.29\n",
       "2808     64.95\n",
       "3268     59.65\n",
       "3752     70.66\n",
       "4079    160.00\n",
       "4527     65.00\n",
       "5009     68.00\n",
       "5118     60.75\n",
       "5516     61.25\n",
       "5545     64.75\n",
       "Name: Price, dtype: float64"
      ]
     },
     "execution_count": 39,
     "metadata": {},
     "output_type": "execute_result"
    }
   ],
   "source": [
    "# checking via IQR, printing a list of outliers beyong 4*IQR\n",
    "quartiles = np.quantile(df['Price'],[.25, .75])\n",
    "price_4iqr = 4 * (quartiles[1] - quartiles[0])\n",
    "print(f'Q1 = {quartiles[0]}, Q3 = {quartiles[1]}, 4*IQR = {price_4iqr}')\n",
    "outlier_price = df.loc[np.abs(df['Price'] - df['Price'].median()) > price_4iqr, 'Price']\n",
    "outlier_price"
   ]
  },
  {
   "cell_type": "code",
   "execution_count": 40,
   "id": "3f21e644",
   "metadata": {},
   "outputs": [],
   "source": [
    "# Creating a set without outliers\n",
    "price = df['Price']\n",
    "price.drop(outlier_price.index, axis=0, inplace=True)"
   ]
  },
  {
   "cell_type": "code",
   "execution_count": 41,
   "id": "2d3d51f9",
   "metadata": {},
   "outputs": [
    {
     "name": "stdout",
     "output_type": "stream",
     "text": [
      "Original mean: 13.646820388349505\n",
      "Original median: 8.2\n",
      "Dropped outliers mean: 12.021907730673309\n",
      "Dropped outliers median: 8.0\n"
     ]
    }
   ],
   "source": [
    "#Checking differences in data\n",
    "print(f'Original mean: {df.Price.mean()}')\n",
    "print(f'Original median: {df.Price.median()}')\n",
    "print(f'Dropped outliers mean: {price.mean()}')\n",
    "print(f'Dropped outliers median: {price.median()}')"
   ]
  },
  {
   "cell_type": "code",
   "execution_count": 42,
   "id": "c4c184e8",
   "metadata": {},
   "outputs": [
    {
     "data": {
      "text/plain": [
       "88.09310439035741"
      ]
     },
     "execution_count": 42,
     "metadata": {},
     "output_type": "execute_result"
    }
   ],
   "source": [
    "price.mean()/df.Price.mean() * 100"
   ]
  },
  {
   "cell_type": "markdown",
   "id": "a2cfbcc7",
   "metadata": {},
   "source": [
    "- Price has alot of outliers that are pulling down the mean by a 12%, this is significant and so to treat these outliers they will be dropped as our independent variable is price"
   ]
  },
  {
   "cell_type": "code",
   "execution_count": 43,
   "id": "1bb868e7",
   "metadata": {},
   "outputs": [],
   "source": [
    "df.drop(outlier_price.index, axis=0, inplace=True)"
   ]
  },
  {
   "cell_type": "markdown",
   "id": "9a7e1b24",
   "metadata": {},
   "source": [
    "#### New Price"
   ]
  },
  {
   "cell_type": "code",
   "execution_count": 44,
   "id": "ec69d835",
   "metadata": {},
   "outputs": [
    {
     "name": "stdout",
     "output_type": "stream",
     "text": [
      "Q1 = 7.87, Q3 = 23.235, 4*IQR = 61.459999999999994\n"
     ]
    },
    {
     "data": {
      "text/plain": [
       "134     95.04\n",
       "310     79.43\n",
       "473     86.97\n",
       "802     78.76\n",
       "1113    86.97\n",
       "2111    78.76\n",
       "3266    87.57\n",
       "4451    83.92\n",
       "4755    74.49\n",
       "4988    78.31\n",
       "5107    79.43\n",
       "5175    79.78\n",
       "Name: New_Price, dtype: float64"
      ]
     },
     "execution_count": 44,
     "metadata": {},
     "output_type": "execute_result"
    }
   ],
   "source": [
    "# checking via IQR, printing a list of outliers beyong 4*IQR\n",
    "quartiles = np.quantile(df['New_Price'],[.25, .75])\n",
    "newp_4iqr = 4 * (quartiles[1] - quartiles[0])\n",
    "print(f'Q1 = {quartiles[0]}, Q3 = {quartiles[1]}, 4*IQR = {newp_4iqr}')\n",
    "outlier_newp = df.loc[np.abs(df['New_Price'] - df['New_Price'].median()) > newp_4iqr, 'New_Price']\n",
    "outlier_newp"
   ]
  },
  {
   "cell_type": "code",
   "execution_count": 45,
   "id": "d10df4cd",
   "metadata": {},
   "outputs": [],
   "source": [
    "# Creating a set without outliers\n",
    "newp = df['New_Price']\n",
    "newp.drop(outlier_newp.index, axis=0, inplace=True)"
   ]
  },
  {
   "cell_type": "code",
   "execution_count": 46,
   "id": "94ef6fc9",
   "metadata": {
    "scrolled": true
   },
   "outputs": [
    {
     "name": "stdout",
     "output_type": "stream",
     "text": [
      "Original mean: 19.269052369077315\n",
      "Original median: 11.315000000000001\n",
      "Dropped outliers mean: 18.309303797468356\n",
      "Dropped outliers median: 11.27\n"
     ]
    }
   ],
   "source": [
    "#Checking differences in data\n",
    "print(f'Original mean: {df.New_Price.mean()}')\n",
    "print(f'Original median: {df.New_Price.median()}')\n",
    "print(f'Dropped outliers mean: {newp.mean()}')\n",
    "print(f'Dropped outliers median: {newp.median()}')"
   ]
  },
  {
   "cell_type": "code",
   "execution_count": 47,
   "id": "bd6bfbc2",
   "metadata": {},
   "outputs": [
    {
     "data": {
      "text/plain": [
       "95.01922277636679"
      ]
     },
     "execution_count": 47,
     "metadata": {},
     "output_type": "execute_result"
    }
   ],
   "source": [
    "newp.mean()/df.New_Price.mean() * 100"
   ]
  },
  {
   "cell_type": "markdown",
   "id": "aa628abf",
   "metadata": {},
   "source": [
    "- New price has 12 outliers, very small effect pulling the median, 4.9% pull on the mean which may be significant"
   ]
  },
  {
   "cell_type": "markdown",
   "id": "b854c727",
   "metadata": {},
   "source": [
    "## Data preprocessing - Feature Engineering"
   ]
  },
  {
   "cell_type": "code",
   "execution_count": 48,
   "id": "841091bf",
   "metadata": {
    "scrolled": true
   },
   "outputs": [
    {
     "name": "stdout",
     "output_type": "stream",
     "text": [
      "Maruti Alto K10 VXI                        16\n",
      "Toyota Innova Crysta 2.8 ZX AT             14\n",
      "BMW 3 Series 320d                          13\n",
      "BMW 5 Series 520d Luxury Line              12\n",
      "Maruti Vitara Brezza ZDi Plus Dual Tone    12\n",
      "Hyundai Grand i10 1.2 Kappa Sportz         11\n",
      "Maruti Wagon R VXI                         11\n",
      "BMW 3 Series Luxury Line                   10\n",
      "Maruti Eeco 7 Seater Standard              10\n",
      "Hyundai Grand i10 1.2 Kappa Asta            9\n",
      "Name: Name, dtype: int64\n",
      "Only displaying first 10 of 313 values.\n",
      "\n",
      "\n",
      "\n",
      "Kochi         138\n",
      "Mumbai        135\n",
      "Coimbatore    126\n",
      "Hyderabad      79\n",
      "Pune           61\n",
      "Kolkata        55\n",
      "Delhi          52\n",
      "Chennai        48\n",
      "Jaipur         41\n",
      "Ahmedabad      36\n",
      "Name: Location, dtype: int64\n",
      "Only displaying first 10 of 11 values.\n",
      "\n",
      "\n",
      "\n"
     ]
    }
   ],
   "source": [
    "# looking at value counts for non-numeric features\n",
    "\n",
    "num_to_display = 10  # defining this up here so it's easy to change later if I want\n",
    "for colname in df.dtypes[df.dtypes == 'object'].index:\n",
    "    val_counts = df[colname].value_counts(dropna=False)  # i want to see NA counts\n",
    "    print(val_counts[:num_to_display])\n",
    "    if len(val_counts) > num_to_display:\n",
    "        print(f'Only displaying first {num_to_display} of {len(val_counts)} values.')\n",
    "    print('\\n\\n') # just for more space between "
   ]
  },
  {
   "cell_type": "markdown",
   "id": "c12afdd0",
   "metadata": {},
   "source": [
    "- Name has way too many values, can simplify and get more generalized information by turning names into brands\n",
    "- Names seems to be structured as:  Brand, seriesline, extra info"
   ]
  },
  {
   "cell_type": "code",
   "execution_count": 49,
   "id": "39fc912d",
   "metadata": {},
   "outputs": [],
   "source": [
    "def name_to_brand(string):\n",
    "    brand =string.split()\n",
    "    return brand[0]"
   ]
  },
  {
   "cell_type": "code",
   "execution_count": 50,
   "id": "033b5164",
   "metadata": {
    "scrolled": true
   },
   "outputs": [],
   "source": [
    "df['Name'] = df['Name'].apply(name_to_brand)\n",
    "df.rename(columns={\"Name\":\"Brand\"},inplace = True)"
   ]
  },
  {
   "cell_type": "code",
   "execution_count": 89,
   "id": "31562862",
   "metadata": {
    "scrolled": false
   },
   "outputs": [
    {
     "name": "stdout",
     "output_type": "stream",
     "text": [
      "Maruti           194\n",
      "Hyundai           96\n",
      "Toyota            82\n",
      "Honda             68\n",
      "BMW               56\n",
      "Tata              43\n",
      "Volkswagen        42\n",
      "Mercedes-Benz     30\n",
      "Renault           27\n",
      "Mahindra          26\n",
      "Name: Brand, dtype: int64\n",
      "Only displaying first 10 of 24 values.\n",
      "\n",
      "\n",
      "\n",
      "Kochi         138\n",
      "Mumbai        135\n",
      "Coimbatore    126\n",
      "Hyderabad      79\n",
      "Pune           61\n",
      "Kolkata        55\n",
      "Delhi          52\n",
      "Chennai        48\n",
      "Jaipur         41\n",
      "Ahmedabad      36\n",
      "Name: Location, dtype: int64\n",
      "Only displaying first 10 of 11 values.\n",
      "\n",
      "\n",
      "\n"
     ]
    }
   ],
   "source": [
    "# looking at value counts for non-numeric features\n",
    "\n",
    "num_to_display = 10  # defining this up here so it's easy to change later if I want\n",
    "for colname in df.dtypes[df.dtypes == 'object'].index:\n",
    "    val_counts = df[colname].value_counts(dropna=False)  # i want to see NA counts\n",
    "    print(val_counts[:num_to_display])\n",
    "    if len(val_counts) > num_to_display:\n",
    "        print(f'Only displaying first {num_to_display} of {len(val_counts)} values.')\n",
    "    print('\\n\\n') # just for more space between "
   ]
  },
  {
   "cell_type": "markdown",
   "id": "6c6fb31e",
   "metadata": {},
   "source": [
    "### Treatment for null values is complete, we now have clean data we can use for EDA"
   ]
  },
  {
   "cell_type": "markdown",
   "id": "a79d92b0",
   "metadata": {},
   "source": [
    "### Univariate Analysis"
   ]
  },
  {
   "cell_type": "markdown",
   "id": "4b8a9b6b",
   "metadata": {},
   "source": [
    "#### Numerical Variables"
   ]
  },
  {
   "cell_type": "code",
   "execution_count": 51,
   "id": "b62f58fc",
   "metadata": {},
   "outputs": [],
   "source": [
    "# While doing uni-variate analysis of numerical variables we want to study their central tendency \n",
    "# and dispersion.\n",
    "# Let us write a function that will help us create boxplot and histogram for any input numerical \n",
    "# variable.\n",
    "# This function takes the numerical column as the input and returns the boxplots \n",
    "# and histograms for the variable.\n",
    "# Let us see if this help us write faster and cleaner code.\n",
    "# function to plot a boxplot and a histogram along the same scale.\n",
    "\n",
    "\n",
    "def histogram_boxplot(data, feature, figsize=(12, 7), kde=False, bins=None):\n",
    "    \"\"\"\n",
    "    Boxplot and histogram combined\n",
    "\n",
    "    data: dataframe\n",
    "    feature: dataframe column\n",
    "    figsize: size of figure (default (12,7))\n",
    "    kde: whether to show the density curve (default False)\n",
    "    bins: number of bins for histogram (default None)\n",
    "    \"\"\"\n",
    "    f2, (ax_box2, ax_hist2) = plt.subplots(\n",
    "        nrows=2,  # Number of rows of the subplot grid= 2\n",
    "        sharex=True,  # x-axis will be shared among all subplots\n",
    "        gridspec_kw={\"height_ratios\": (0.25, 0.75)},\n",
    "        figsize=figsize,\n",
    "    )  # creating the 2 subplots\n",
    "    sns.boxplot(\n",
    "        data=data, x=feature, ax=ax_box2, showmeans=True, color=\"violet\"\n",
    "    )  # boxplot will be created and a star will indicate the mean value of the column\n",
    "    sns.histplot(\n",
    "        data=data, x=feature, kde=kde, ax=ax_hist2, bins=bins, palette=\"winter\"\n",
    "    ) if bins else sns.histplot(\n",
    "        data=data, x=feature, kde=kde, ax=ax_hist2\n",
    "    )  # For histogram\n",
    "    ax_hist2.axvline(\n",
    "        data[feature].mean(), color=\"green\", linestyle=\"--\"\n",
    "    )  # Add mean to the histogram\n",
    "    ax_hist2.axvline(\n",
    "        data[feature].median(), color=\"black\", linestyle=\"-\"\n",
    "    )  # Add median to the histogram"
   ]
  },
  {
   "cell_type": "code",
   "execution_count": 52,
   "id": "e69923a4",
   "metadata": {},
   "outputs": [
    {
     "data": {
      "image/png": "[encoded data removed]",
      "text/plain": [
       "<Figure size 864x504 with 2 Axes>"
      ]
     },
     "metadata": {
      "needs_background": "light"
     },
     "output_type": "display_data"
    }
   ],
   "source": [
    "histogram_boxplot(df, 'Kilometers_Driven')"
   ]
  },
  {
   "cell_type": "markdown",
   "id": "9bda05fa",
   "metadata": {},
   "source": [
    "- Distribution of Kilomerers driven is right skewed with many outliers"
   ]
  },
  {
   "cell_type": "code",
   "execution_count": 53,
   "id": "9ba837fa",
   "metadata": {},
   "outputs": [
    {
     "data": {
      "image/png": "[encoded data removed]",
      "text/plain": [
       "<Figure size 864x504 with 2 Axes>"
      ]
     },
     "metadata": {
      "needs_background": "light"
     },
     "output_type": "display_data"
    }
   ],
   "source": [
    "histogram_boxplot(df, 'Mileage')"
   ]
  },
  {
   "cell_type": "markdown",
   "id": "c5c86ab3",
   "metadata": {},
   "source": [
    "- Distribution of Mileage is slightly left skewed with few outliers"
   ]
  },
  {
   "cell_type": "code",
   "execution_count": 54,
   "id": "695261c2",
   "metadata": {},
   "outputs": [
    {
     "data": {
      "image/png": "[encoded data removed]",
      "text/plain": [
       "<Figure size 864x504 with 2 Axes>"
      ]
     },
     "metadata": {
      "needs_background": "light"
     },
     "output_type": "display_data"
    }
   ],
   "source": [
    "histogram_boxplot(df, 'Engine')"
   ]
  },
  {
   "cell_type": "markdown",
   "id": "57192a7b",
   "metadata": {},
   "source": [
    "- Distribution of Engine driven is right skewed with few outliers"
   ]
  },
  {
   "cell_type": "code",
   "execution_count": 55,
   "id": "165b9f00",
   "metadata": {},
   "outputs": [
    {
     "data": {
      "image/png": "[encoded data removed]",
      "text/plain": [
       "<Figure size 864x504 with 2 Axes>"
      ]
     },
     "metadata": {
      "needs_background": "light"
     },
     "output_type": "display_data"
    }
   ],
   "source": [
    "histogram_boxplot(df, 'Power')"
   ]
  },
  {
   "cell_type": "markdown",
   "id": "e57b4c07",
   "metadata": {},
   "source": [
    "- Distribution of engine power is right skewed with few outliers"
   ]
  },
  {
   "cell_type": "code",
   "execution_count": 56,
   "id": "59252c3a",
   "metadata": {},
   "outputs": [
    {
     "data": {
      "image/png": "[encoded data removed]",
      "text/plain": [
       "<Figure size 864x504 with 2 Axes>"
      ]
     },
     "metadata": {
      "needs_background": "light"
     },
     "output_type": "display_data"
    }
   ],
   "source": [
    "histogram_boxplot(df, 'Seats')"
   ]
  },
  {
   "cell_type": "markdown",
   "id": "dfd00153",
   "metadata": {},
   "source": [
    "- shows a right skew, because most values are 5, boxplot distribution looks extremely condensed"
   ]
  },
  {
   "cell_type": "code",
   "execution_count": 57,
   "id": "98921a20",
   "metadata": {},
   "outputs": [
    {
     "data": {
      "image/png": "[encoded data removed]",
      "text/plain": [
       "<Figure size 864x504 with 2 Axes>"
      ]
     },
     "metadata": {
      "needs_background": "light"
     },
     "output_type": "display_data"
    }
   ],
   "source": [
    "histogram_boxplot(df, 'Price')"
   ]
  },
  {
   "cell_type": "markdown",
   "id": "dd8c780f",
   "metadata": {},
   "source": [
    "- Price distribution is highly right skewed with many outliers"
   ]
  },
  {
   "cell_type": "code",
   "execution_count": 58,
   "id": "10e17a46",
   "metadata": {},
   "outputs": [
    {
     "data": {
      "image/png": "[encoded data removed]",
      "text/plain": [
       "<Figure size 864x504 with 2 Axes>"
      ]
     },
     "metadata": {
      "needs_background": "light"
     },
     "output_type": "display_data"
    }
   ],
   "source": [
    "histogram_boxplot(df, 'New_Price')"
   ]
  },
  {
   "cell_type": "markdown",
   "id": "944619f4",
   "metadata": {},
   "source": [
    "- New Price distribution is highly right skewed with many outliers, shows similar distribution to Price"
   ]
  },
  {
   "cell_type": "markdown",
   "id": "1441f611",
   "metadata": {},
   "source": [
    "#### Categorical Variables"
   ]
  },
  {
   "cell_type": "code",
   "execution_count": 59,
   "id": "829ce210",
   "metadata": {},
   "outputs": [],
   "source": [
    "# function to create labeled barplots\n",
    "\n",
    "\n",
    "def labeled_barplot(data, feature, perc=False, n=None):\n",
    "    \"\"\"\n",
    "    Barplot with percentage at the top\n",
    "\n",
    "    data: dataframe\n",
    "    feature: dataframe column\n",
    "    perc: whether to display percentages instead of count (default is False)\n",
    "    n: displays the top n category levels (default is None, i.e., display all levels)\n",
    "    \"\"\"\n",
    "\n",
    "    total = len(data[feature])  # length of the column\n",
    "    count = data[feature].nunique()\n",
    "    if n is None:\n",
    "        plt.figure(figsize=(count + 1, 5))\n",
    "    else:\n",
    "        plt.figure(figsize=(n + 1, 5))\n",
    "\n",
    "    plt.xticks(rotation=90, fontsize=15)\n",
    "    ax = sns.countplot(\n",
    "        data=data,\n",
    "        x=feature,\n",
    "        palette=\"Paired\",\n",
    "        order=data[feature].value_counts().index[:n].sort_values(),\n",
    "    )\n",
    "\n",
    "    for p in ax.patches:\n",
    "        if perc == True:\n",
    "            label = \"{:.1f}%\".format(\n",
    "                100 * p.get_height() / total\n",
    "            )  # percentage of each class of the category\n",
    "        else:\n",
    "            label = p.get_height()  # count of each level of the category\n",
    "\n",
    "        x = p.get_x() + p.get_width() / 2  # width of the plot\n",
    "        y = p.get_height()  # height of the plot\n",
    "\n",
    "        ax.annotate(\n",
    "            label,\n",
    "            (x, y),\n",
    "            ha=\"center\",\n",
    "            va=\"center\",\n",
    "            size=12,\n",
    "            xytext=(0, 5),\n",
    "            textcoords=\"offset points\",\n",
    "        )  # annotate the percentage\n",
    "\n",
    "    plt.show()  # show the plot"
   ]
  },
  {
   "cell_type": "code",
   "execution_count": 60,
   "id": "e65099d2",
   "metadata": {},
   "outputs": [
    {
     "data": {
      "image/png": "[encoded data removed]",
      "text/plain": [
       "<Figure size 216x360 with 1 Axes>"
      ]
     },
     "metadata": {
      "needs_background": "light"
     },
     "output_type": "display_data"
    }
   ],
   "source": [
    "labeled_barplot(df,'Transmission', perc=True) "
   ]
  },
  {
   "cell_type": "markdown",
   "id": "e2412d81",
   "metadata": {},
   "source": [
    "- Most used cars are manual transmission however almost 38% run automatic so the difference is not too extreme"
   ]
  },
  {
   "cell_type": "code",
   "execution_count": 61,
   "id": "a72a9eac",
   "metadata": {},
   "outputs": [
    {
     "data": {
      "image/png": "[encoded data removed]",
      "text/plain": [
       "<Figure size 288x360 with 1 Axes>"
      ]
     },
     "metadata": {
      "needs_background": "light"
     },
     "output_type": "display_data"
    }
   ],
   "source": [
    "labeled_barplot(df,'Owner_Type', perc=True) "
   ]
  },
  {
   "cell_type": "markdown",
   "id": "af57a895",
   "metadata": {},
   "source": [
    "- Most owners are first time owners the little that remain are second time owners with few to no people being third or fourth and above"
   ]
  },
  {
   "cell_type": "code",
   "execution_count": 62,
   "id": "956a62cb",
   "metadata": {},
   "outputs": [
    {
     "data": {
      "image/png": "[encoded data removed]",
      "text/plain": [
       "<Figure size 360x360 with 1 Axes>"
      ]
     },
     "metadata": {
      "needs_background": "light"
     },
     "output_type": "display_data"
    }
   ],
   "source": [
    "labeled_barplot(df,'Fuel_Type', perc=True) "
   ]
  },
  {
   "cell_type": "markdown",
   "id": "f733ea32",
   "metadata": {},
   "source": [
    "- Most used cars use Diesel or petrol, little to non to CNG, LGP or run on electric"
   ]
  },
  {
   "cell_type": "code",
   "execution_count": 63,
   "id": "4e44ba4a",
   "metadata": {
    "scrolled": false
   },
   "outputs": [
    {
     "data": {
      "image/png": "[encoded data removed]",
      "text/plain": [
       "<Figure size 1800x360 with 1 Axes>"
      ]
     },
     "metadata": {
      "needs_background": "light"
     },
     "output_type": "display_data"
    }
   ],
   "source": [
    "labeled_barplot(df,'Brand', perc=True) "
   ]
  },
  {
   "cell_type": "markdown",
   "id": "8e3f68a6",
   "metadata": {},
   "source": [
    "- Out of all the car brands the most sold used cars are Maruti Suzuki brand"
   ]
  },
  {
   "cell_type": "code",
   "execution_count": 64,
   "id": "203cecdd",
   "metadata": {},
   "outputs": [
    {
     "data": {
      "image/png": "[encoded data removed]",
      "text/plain": [
       "<Figure size 864x360 with 1 Axes>"
      ]
     },
     "metadata": {
      "needs_background": "light"
     },
     "output_type": "display_data"
    }
   ],
   "source": [
    "labeled_barplot(df,'Location', perc=True) "
   ]
  },
  {
   "cell_type": "markdown",
   "id": "43c0a53e",
   "metadata": {},
   "source": [
    "- The 3 locations with the highest sales are Coimbatore, Kochi and Mumbai"
   ]
  },
  {
   "cell_type": "markdown",
   "id": "f091372e",
   "metadata": {},
   "source": [
    "### Bivariate analysis"
   ]
  },
  {
   "cell_type": "code",
   "execution_count": 65,
   "id": "c08b217e",
   "metadata": {},
   "outputs": [
    {
     "data": {
      "image/png": "[encoded data removed]",
      "text/plain": [
       "<Figure size 1080x504 with 2 Axes>"
      ]
     },
     "metadata": {
      "needs_background": "light"
     },
     "output_type": "display_data"
    }
   ],
   "source": [
    "plt.figure(figsize=(15, 7)) #change figure size\n",
    "sns.heatmap(df.corr(), annot=True) # visual colored map of correlation table.\n",
    "plt.show() #shows graph"
   ]
  },
  {
   "cell_type": "markdown",
   "id": "b892145f",
   "metadata": {},
   "source": [
    "- power and engine highly correlated\n",
    "- power and price highly correlated\n",
    "- Engine and New price as well as Engine and Price moderately positively correlated\n",
    "- New price and power moderately positively correlated\n",
    "- New price and price moderately positively correlated\n",
    "- engine and mileage moderately negatively correlated\n",
    "- Year and kilometers driven moderately negatevely correlated"
   ]
  },
  {
   "cell_type": "markdown",
   "id": "318e78ca",
   "metadata": {},
   "source": [
    "### Variation in price vs categorical columns"
   ]
  },
  {
   "cell_type": "code",
   "execution_count": 66,
   "id": "534f8307",
   "metadata": {},
   "outputs": [
    {
     "data": {
      "image/png": "[encoded data removed]",
      "text/plain": [
       "<Figure size 720x360 with 1 Axes>"
      ]
     },
     "metadata": {
      "needs_background": "light"
     },
     "output_type": "display_data"
    }
   ],
   "source": [
    "plt.figure(figsize=(10, 5))\n",
    "sns.boxplot(x=\"Transmission\", y=\"Price\", data=df)\n",
    "plt.show()"
   ]
  },
  {
   "cell_type": "markdown",
   "id": "23e8432c",
   "metadata": {},
   "source": [
    "- Automatic cars fetch a higher price range, the upper price range of manual cars is about the equivalent of the mean price range of automatic cars, there is a range of outliers in both transmission types however the range of outliers of the manual cars price do not exceed the upper whisker limit of automatic car prices"
   ]
  },
  {
   "cell_type": "code",
   "execution_count": 67,
   "id": "c46b50d0",
   "metadata": {},
   "outputs": [
    {
     "data": {
      "image/png": "[encoded data removed]",
      "text/plain": [
       "<Figure size 720x360 with 1 Axes>"
      ]
     },
     "metadata": {
      "needs_background": "light"
     },
     "output_type": "display_data"
    }
   ],
   "source": [
    "plt.figure(figsize=(10, 5))\n",
    "sns.boxplot(x=\"Owner_Type\", y=\"Price\", data=df)\n",
    "plt.show()"
   ]
  },
  {
   "cell_type": "markdown",
   "id": "69293f66",
   "metadata": {},
   "source": [
    "- First type ownership has the widest price range as well as the widest range outliers among the 4 types\n",
    "- Second type owners have the biggest interquartile range\n",
    "- Third type owners has the lowest range, IQR and mean"
   ]
  },
  {
   "cell_type": "code",
   "execution_count": 68,
   "id": "8f84ca3f",
   "metadata": {},
   "outputs": [
    {
     "data": {
      "image/png": "[encoded data removed]",
      "text/plain": [
       "<Figure size 720x360 with 1 Axes>"
      ]
     },
     "metadata": {
      "needs_background": "light"
     },
     "output_type": "display_data"
    }
   ],
   "source": [
    "plt.figure(figsize=(10, 5))\n",
    "sns.boxplot(x=\"Fuel_Type\", y=\"Price\", data=df)\n",
    "plt.show()"
   ]
  },
  {
   "cell_type": "markdown",
   "id": "966baa96",
   "metadata": {},
   "source": [
    "- Diesel has the highest price range and the widest outlier range as well as biggest IQR\n",
    "- electric has the highest mean but very little distrubition\n",
    "- petrol has the next highest range and the second biggest outlier distribution\n",
    "- no cars in the LPG group\n",
    "- CNG has a very small IQR and the lowest price mean for used cars"
   ]
  },
  {
   "cell_type": "code",
   "execution_count": 69,
   "id": "0ba83fb2",
   "metadata": {
    "scrolled": true
   },
   "outputs": [
    {
     "data": {
      "image/png": "[encoded data removed]",
      "text/plain": [
       "<Figure size 720x360 with 1 Axes>"
      ]
     },
     "metadata": {
      "needs_background": "light"
     },
     "output_type": "display_data"
    }
   ],
   "source": [
    "plt.figure(figsize=(10, 5))\n",
    "plt.xticks(rotation=90)\n",
    "sns.boxplot(x=\"Location\", y=\"Price\", data=df)\n",
    "plt.show()"
   ]
  },
  {
   "cell_type": "markdown",
   "id": "f251bd85",
   "metadata": {},
   "source": [
    "- Cars sold for higher prices at Hyderabad, followed by Mumbai, Bangalor, Koichi and Ahmedabad"
   ]
  },
  {
   "cell_type": "code",
   "execution_count": 70,
   "id": "1941de0c",
   "metadata": {
    "scrolled": false
   },
   "outputs": [
    {
     "data": {
      "image/png": "[encoded data removed]",
      "text/plain": [
       "<Figure size 1440x720 with 1 Axes>"
      ]
     },
     "metadata": {
      "needs_background": "light"
     },
     "output_type": "display_data"
    }
   ],
   "source": [
    "plt.figure(figsize=(20, 10))\n",
    "plt.xticks(rotation=90)\n",
    "sns.boxplot(x=\"Brand\", y=\"Price\", data=df)\n",
    "plt.show()"
   ]
  },
  {
   "cell_type": "markdown",
   "id": "66b29697",
   "metadata": {},
   "source": [
    "- Used car brands sold at the highest price is Mercedes-Benz, Jaguar and Land Rover\n",
    "- the ones sold at the lowest are Fiat, Porsche and Datsun"
   ]
  },
  {
   "cell_type": "markdown",
   "id": "d4a2d86e",
   "metadata": {},
   "source": [
    "## Variable Transformation"
   ]
  },
  {
   "cell_type": "markdown",
   "id": "0e2893eb",
   "metadata": {},
   "source": [
    "### Double checking skewness"
   ]
  },
  {
   "cell_type": "code",
   "execution_count": 71,
   "id": "57d27f74",
   "metadata": {},
   "outputs": [
    {
     "data": {
      "image/png": "[encoded data removed]",
      "text/plain": [
       "<Figure size 1080x3240 with 8 Axes>"
      ]
     },
     "metadata": {
      "needs_background": "light"
     },
     "output_type": "display_data"
    }
   ],
   "source": [
    "dist_cols = [\n",
    "    item for item in df.select_dtypes(include=np.number).columns\n",
    "]\n",
    "\n",
    "plt.figure(figsize=(15, 45))\n",
    "\n",
    "for i in range(len(dist_cols)):\n",
    "    plt.subplot(12, 3, i + 1)\n",
    "    plt.hist(df[dist_cols[i]], bins=50)\n",
    "    plt.tight_layout()\n",
    "    plt.title(dist_cols[i], fontsize=25)\n",
    "\n",
    "plt.show()"
   ]
  },
  {
   "cell_type": "code",
   "execution_count": null,
   "id": "c482eb4c",
   "metadata": {},
   "outputs": [],
   "source": []
  },
  {
   "cell_type": "markdown",
   "id": "176959a3",
   "metadata": {},
   "source": [
    "- All columns have a skweed distribution, we will apply a log transformation to deal with skewness"
   ]
  },
  {
   "cell_type": "code",
   "execution_count": 72,
   "id": "1897c8ae",
   "metadata": {},
   "outputs": [
    {
     "data": {
      "text/html": [
       "<div>\n",
       "<style scoped>\n",
       "    .dataframe tbody tr th:only-of-type {\n",
       "        vertical-align: middle;\n",
       "    }\n",
       "\n",
       "    .dataframe tbody tr th {\n",
       "        vertical-align: top;\n",
       "    }\n",
       "\n",
       "    .dataframe thead th {\n",
       "        text-align: right;\n",
       "    }\n",
       "</style>\n",
       "<table border=\"1\" class=\"dataframe\">\n",
       "  <thead>\n",
       "    <tr style=\"text-align: right;\">\n",
       "      <th></th>\n",
       "      <th>Brand</th>\n",
       "      <th>Location</th>\n",
       "      <th>Fuel_Type</th>\n",
       "      <th>Transmission</th>\n",
       "      <th>Owner_Type</th>\n",
       "      <th>Year_log</th>\n",
       "      <th>Kilometers_Driven_log</th>\n",
       "      <th>Mileage_log</th>\n",
       "      <th>Engine_log</th>\n",
       "      <th>Power_log</th>\n",
       "      <th>Seats_log</th>\n",
       "      <th>New_Price_log</th>\n",
       "      <th>Price_log</th>\n",
       "    </tr>\n",
       "  </thead>\n",
       "  <tbody>\n",
       "    <tr>\n",
       "      <th>2</th>\n",
       "      <td>Honda</td>\n",
       "      <td>Chennai</td>\n",
       "      <td>Petrol</td>\n",
       "      <td>Manual</td>\n",
       "      <td>First</td>\n",
       "      <td>7.606885</td>\n",
       "      <td>10.736418</td>\n",
       "      <td>2.954910</td>\n",
       "      <td>7.090077</td>\n",
       "      <td>4.496471</td>\n",
       "      <td>1.791759</td>\n",
       "      <td>2.262804</td>\n",
       "      <td>1.704748</td>\n",
       "    </tr>\n",
       "    <tr>\n",
       "      <th>7</th>\n",
       "      <td>Toyota</td>\n",
       "      <td>Mumbai</td>\n",
       "      <td>Diesel</td>\n",
       "      <td>Automatic</td>\n",
       "      <td>First</td>\n",
       "      <td>7.609367</td>\n",
       "      <td>10.491302</td>\n",
       "      <td>2.514465</td>\n",
       "      <td>7.921536</td>\n",
       "      <td>5.150397</td>\n",
       "      <td>2.197225</td>\n",
       "      <td>3.091042</td>\n",
       "      <td>2.917771</td>\n",
       "    </tr>\n",
       "    <tr>\n",
       "      <th>10</th>\n",
       "      <td>Maruti</td>\n",
       "      <td>Kochi</td>\n",
       "      <td>Petrol</td>\n",
       "      <td>Manual</td>\n",
       "      <td>First</td>\n",
       "      <td>7.610358</td>\n",
       "      <td>10.153974</td>\n",
       "      <td>3.116178</td>\n",
       "      <td>7.288244</td>\n",
       "      <td>4.646792</td>\n",
       "      <td>1.791759</td>\n",
       "      <td>2.455306</td>\n",
       "      <td>2.393339</td>\n",
       "    </tr>\n",
       "    <tr>\n",
       "      <th>15</th>\n",
       "      <td>Mitsubishi</td>\n",
       "      <td>Delhi</td>\n",
       "      <td>Diesel</td>\n",
       "      <td>Manual</td>\n",
       "      <td>First</td>\n",
       "      <td>7.608374</td>\n",
       "      <td>11.608245</td>\n",
       "      <td>2.674149</td>\n",
       "      <td>7.815207</td>\n",
       "      <td>5.173661</td>\n",
       "      <td>2.079442</td>\n",
       "      <td>3.496811</td>\n",
       "      <td>2.772589</td>\n",
       "    </tr>\n",
       "    <tr>\n",
       "      <th>20</th>\n",
       "      <td>BMW</td>\n",
       "      <td>Kochi</td>\n",
       "      <td>Diesel</td>\n",
       "      <td>Automatic</td>\n",
       "      <td>First</td>\n",
       "      <td>7.608374</td>\n",
       "      <td>10.403748</td>\n",
       "      <td>3.165053</td>\n",
       "      <td>7.598900</td>\n",
       "      <td>5.252273</td>\n",
       "      <td>1.791759</td>\n",
       "      <td>3.889164</td>\n",
       "      <td>2.972975</td>\n",
       "    </tr>\n",
       "  </tbody>\n",
       "</table>\n",
       "</div>"
      ],
      "text/plain": [
       "         Brand Location Fuel_Type Transmission Owner_Type  Year_log  \\\n",
       "2        Honda  Chennai    Petrol       Manual      First  7.606885   \n",
       "7       Toyota   Mumbai    Diesel    Automatic      First  7.609367   \n",
       "10      Maruti    Kochi    Petrol       Manual      First  7.610358   \n",
       "15  Mitsubishi    Delhi    Diesel       Manual      First  7.608374   \n",
       "20         BMW    Kochi    Diesel    Automatic      First  7.608374   \n",
       "\n",
       "    Kilometers_Driven_log  Mileage_log  Engine_log  Power_log  Seats_log  \\\n",
       "2               10.736418     2.954910    7.090077   4.496471   1.791759   \n",
       "7               10.491302     2.514465    7.921536   5.150397   2.197225   \n",
       "10              10.153974     3.116178    7.288244   4.646792   1.791759   \n",
       "15              11.608245     2.674149    7.815207   5.173661   2.079442   \n",
       "20              10.403748     3.165053    7.598900   5.252273   1.791759   \n",
       "\n",
       "    New_Price_log  Price_log  \n",
       "2        2.262804   1.704748  \n",
       "7        3.091042   2.917771  \n",
       "10       2.455306   2.393339  \n",
       "15       3.496811   2.772589  \n",
       "20       3.889164   2.972975  "
      ]
     },
     "execution_count": 72,
     "metadata": {},
     "output_type": "execute_result"
    }
   ],
   "source": [
    "df2 = df.copy()\n",
    "for col in dist_cols:\n",
    "    df2[col + \"_log\"] = np.log(df2[col] + 1)\n",
    "df2.drop(dist_cols, axis=1, inplace=True)\n",
    "df2.head()"
   ]
  },
  {
   "cell_type": "code",
   "execution_count": 73,
   "id": "fab5ae64",
   "metadata": {},
   "outputs": [
    {
     "data": {
      "image/png": "[encoded data removed]",
      "text/plain": [
       "<Figure size 1080x3240 with 8 Axes>"
      ]
     },
     "metadata": {
      "needs_background": "light"
     },
     "output_type": "display_data"
    }
   ],
   "source": [
    "dist_cols = [\n",
    "    item for item in df2.select_dtypes(include=np.number).columns\n",
    "]\n",
    "\n",
    "plt.figure(figsize=(15, 45))\n",
    "\n",
    "for i in range(len(dist_cols)):\n",
    "    plt.subplot(12, 3, i + 1)\n",
    "    plt.hist(df2[dist_cols[i]], bins=50)\n",
    "    plt.tight_layout()\n",
    "    plt.title(dist_cols[i], fontsize=25)\n",
    "\n",
    "plt.show()"
   ]
  },
  {
   "cell_type": "markdown",
   "id": "a8d05a79",
   "metadata": {},
   "source": [
    "- Some columns more normally distributed, but all still skewed"
   ]
  },
  {
   "cell_type": "code",
   "execution_count": 74,
   "id": "013d1b2b",
   "metadata": {},
   "outputs": [
    {
     "data": {
      "image/png": "[encoded data removed]",
      "text/plain": [
       "<Figure size 1080x504 with 2 Axes>"
      ]
     },
     "metadata": {
      "needs_background": "light"
     },
     "output_type": "display_data"
    }
   ],
   "source": [
    "plt.figure(figsize=(15, 7)) #change figure size\n",
    "sns.heatmap(df2[dist_cols].corr(), annot=True, cmap=\"Spectral\") # visual colored map of correlation table.\n",
    "plt.show() #shows graph"
   ]
  },
  {
   "cell_type": "markdown",
   "id": "2070b2e9",
   "metadata": {},
   "source": [
    "- In general slightly more correlated amongst all variables, doesnt not visually seem too significant."
   ]
  },
  {
   "cell_type": "markdown",
   "id": "f2f6d5fc",
   "metadata": {},
   "source": [
    "## Model Building"
   ]
  },
  {
   "cell_type": "markdown",
   "id": "1d3f9699",
   "metadata": {},
   "source": [
    "### Defining dependent variable"
   ]
  },
  {
   "cell_type": "code",
   "execution_count": 75,
   "id": "85734e14",
   "metadata": {},
   "outputs": [
    {
     "data": {
      "text/html": [
       "<div>\n",
       "<style scoped>\n",
       "    .dataframe tbody tr th:only-of-type {\n",
       "        vertical-align: middle;\n",
       "    }\n",
       "\n",
       "    .dataframe tbody tr th {\n",
       "        vertical-align: top;\n",
       "    }\n",
       "\n",
       "    .dataframe thead th {\n",
       "        text-align: right;\n",
       "    }\n",
       "</style>\n",
       "<table border=\"1\" class=\"dataframe\">\n",
       "  <thead>\n",
       "    <tr style=\"text-align: right;\">\n",
       "      <th></th>\n",
       "      <th>Brand</th>\n",
       "      <th>Location</th>\n",
       "      <th>Fuel_Type</th>\n",
       "      <th>Transmission</th>\n",
       "      <th>Owner_Type</th>\n",
       "      <th>Year_log</th>\n",
       "      <th>Kilometers_Driven_log</th>\n",
       "      <th>Mileage_log</th>\n",
       "      <th>Engine_log</th>\n",
       "      <th>Power_log</th>\n",
       "      <th>Seats_log</th>\n",
       "      <th>New_Price_log</th>\n",
       "    </tr>\n",
       "  </thead>\n",
       "  <tbody>\n",
       "    <tr>\n",
       "      <th>2</th>\n",
       "      <td>Honda</td>\n",
       "      <td>Chennai</td>\n",
       "      <td>Petrol</td>\n",
       "      <td>Manual</td>\n",
       "      <td>First</td>\n",
       "      <td>7.606885</td>\n",
       "      <td>10.736418</td>\n",
       "      <td>2.954910</td>\n",
       "      <td>7.090077</td>\n",
       "      <td>4.496471</td>\n",
       "      <td>1.791759</td>\n",
       "      <td>2.262804</td>\n",
       "    </tr>\n",
       "    <tr>\n",
       "      <th>7</th>\n",
       "      <td>Toyota</td>\n",
       "      <td>Mumbai</td>\n",
       "      <td>Diesel</td>\n",
       "      <td>Automatic</td>\n",
       "      <td>First</td>\n",
       "      <td>7.609367</td>\n",
       "      <td>10.491302</td>\n",
       "      <td>2.514465</td>\n",
       "      <td>7.921536</td>\n",
       "      <td>5.150397</td>\n",
       "      <td>2.197225</td>\n",
       "      <td>3.091042</td>\n",
       "    </tr>\n",
       "    <tr>\n",
       "      <th>10</th>\n",
       "      <td>Maruti</td>\n",
       "      <td>Kochi</td>\n",
       "      <td>Petrol</td>\n",
       "      <td>Manual</td>\n",
       "      <td>First</td>\n",
       "      <td>7.610358</td>\n",
       "      <td>10.153974</td>\n",
       "      <td>3.116178</td>\n",
       "      <td>7.288244</td>\n",
       "      <td>4.646792</td>\n",
       "      <td>1.791759</td>\n",
       "      <td>2.455306</td>\n",
       "    </tr>\n",
       "    <tr>\n",
       "      <th>15</th>\n",
       "      <td>Mitsubishi</td>\n",
       "      <td>Delhi</td>\n",
       "      <td>Diesel</td>\n",
       "      <td>Manual</td>\n",
       "      <td>First</td>\n",
       "      <td>7.608374</td>\n",
       "      <td>11.608245</td>\n",
       "      <td>2.674149</td>\n",
       "      <td>7.815207</td>\n",
       "      <td>5.173661</td>\n",
       "      <td>2.079442</td>\n",
       "      <td>3.496811</td>\n",
       "    </tr>\n",
       "    <tr>\n",
       "      <th>20</th>\n",
       "      <td>BMW</td>\n",
       "      <td>Kochi</td>\n",
       "      <td>Diesel</td>\n",
       "      <td>Automatic</td>\n",
       "      <td>First</td>\n",
       "      <td>7.608374</td>\n",
       "      <td>10.403748</td>\n",
       "      <td>3.165053</td>\n",
       "      <td>7.598900</td>\n",
       "      <td>5.252273</td>\n",
       "      <td>1.791759</td>\n",
       "      <td>3.889164</td>\n",
       "    </tr>\n",
       "  </tbody>\n",
       "</table>\n",
       "</div>"
      ],
      "text/plain": [
       "         Brand Location Fuel_Type Transmission Owner_Type  Year_log  \\\n",
       "2        Honda  Chennai    Petrol       Manual      First  7.606885   \n",
       "7       Toyota   Mumbai    Diesel    Automatic      First  7.609367   \n",
       "10      Maruti    Kochi    Petrol       Manual      First  7.610358   \n",
       "15  Mitsubishi    Delhi    Diesel       Manual      First  7.608374   \n",
       "20         BMW    Kochi    Diesel    Automatic      First  7.608374   \n",
       "\n",
       "    Kilometers_Driven_log  Mileage_log  Engine_log  Power_log  Seats_log  \\\n",
       "2               10.736418     2.954910    7.090077   4.496471   1.791759   \n",
       "7               10.491302     2.514465    7.921536   5.150397   2.197225   \n",
       "10              10.153974     3.116178    7.288244   4.646792   1.791759   \n",
       "15              11.608245     2.674149    7.815207   5.173661   2.079442   \n",
       "20              10.403748     3.165053    7.598900   5.252273   1.791759   \n",
       "\n",
       "    New_Price_log  \n",
       "2        2.262804  \n",
       "7        3.091042  \n",
       "10       2.455306  \n",
       "15       3.496811  \n",
       "20       3.889164  "
      ]
     },
     "execution_count": 75,
     "metadata": {},
     "output_type": "execute_result"
    }
   ],
   "source": [
    "X = df2.drop(['Price_log'],axis =1)\n",
    "y = df2['Price_log']\n",
    "X.head()"
   ]
  },
  {
   "cell_type": "code",
   "execution_count": 76,
   "id": "c1031e5b",
   "metadata": {},
   "outputs": [
    {
     "data": {
      "text/html": [
       "<div>\n",
       "<style scoped>\n",
       "    .dataframe tbody tr th:only-of-type {\n",
       "        vertical-align: middle;\n",
       "    }\n",
       "\n",
       "    .dataframe tbody tr th {\n",
       "        vertical-align: top;\n",
       "    }\n",
       "\n",
       "    .dataframe thead th {\n",
       "        text-align: right;\n",
       "    }\n",
       "</style>\n",
       "<table border=\"1\" class=\"dataframe\">\n",
       "  <thead>\n",
       "    <tr style=\"text-align: right;\">\n",
       "      <th></th>\n",
       "      <th>Brand</th>\n",
       "      <th>Location</th>\n",
       "      <th>Fuel_Type</th>\n",
       "      <th>Transmission</th>\n",
       "      <th>Owner_Type</th>\n",
       "      <th>Seats</th>\n",
       "      <th>Year_log</th>\n",
       "      <th>Kilometers_Driven_log</th>\n",
       "      <th>Mileage_log</th>\n",
       "      <th>Engine_log</th>\n",
       "      <th>Power_log</th>\n",
       "      <th>New_Price_log</th>\n",
       "    </tr>\n",
       "  </thead>\n",
       "  <tbody>\n",
       "    <tr>\n",
       "      <th>2</th>\n",
       "      <td>Honda</td>\n",
       "      <td>Chennai</td>\n",
       "      <td>Petrol</td>\n",
       "      <td>Manual</td>\n",
       "      <td>First</td>\n",
       "      <td>5.0</td>\n",
       "      <td>7.606885</td>\n",
       "      <td>10.736418</td>\n",
       "      <td>2.954910</td>\n",
       "      <td>7.090077</td>\n",
       "      <td>4.496471</td>\n",
       "      <td>2.262804</td>\n",
       "    </tr>\n",
       "    <tr>\n",
       "      <th>7</th>\n",
       "      <td>Toyota</td>\n",
       "      <td>Mumbai</td>\n",
       "      <td>Diesel</td>\n",
       "      <td>Automatic</td>\n",
       "      <td>First</td>\n",
       "      <td>8.0</td>\n",
       "      <td>7.609367</td>\n",
       "      <td>10.491302</td>\n",
       "      <td>2.514465</td>\n",
       "      <td>7.921536</td>\n",
       "      <td>5.150397</td>\n",
       "      <td>3.091042</td>\n",
       "    </tr>\n",
       "    <tr>\n",
       "      <th>10</th>\n",
       "      <td>Maruti</td>\n",
       "      <td>Kochi</td>\n",
       "      <td>Petrol</td>\n",
       "      <td>Manual</td>\n",
       "      <td>First</td>\n",
       "      <td>5.0</td>\n",
       "      <td>7.610358</td>\n",
       "      <td>10.153974</td>\n",
       "      <td>3.116178</td>\n",
       "      <td>7.288244</td>\n",
       "      <td>4.646792</td>\n",
       "      <td>2.455306</td>\n",
       "    </tr>\n",
       "    <tr>\n",
       "      <th>15</th>\n",
       "      <td>Mitsubishi</td>\n",
       "      <td>Delhi</td>\n",
       "      <td>Diesel</td>\n",
       "      <td>Manual</td>\n",
       "      <td>First</td>\n",
       "      <td>7.0</td>\n",
       "      <td>7.608374</td>\n",
       "      <td>11.608245</td>\n",
       "      <td>2.674149</td>\n",
       "      <td>7.815207</td>\n",
       "      <td>5.173661</td>\n",
       "      <td>3.496811</td>\n",
       "    </tr>\n",
       "    <tr>\n",
       "      <th>20</th>\n",
       "      <td>BMW</td>\n",
       "      <td>Kochi</td>\n",
       "      <td>Diesel</td>\n",
       "      <td>Automatic</td>\n",
       "      <td>First</td>\n",
       "      <td>5.0</td>\n",
       "      <td>7.608374</td>\n",
       "      <td>10.403748</td>\n",
       "      <td>3.165053</td>\n",
       "      <td>7.598900</td>\n",
       "      <td>5.252273</td>\n",
       "      <td>3.889164</td>\n",
       "    </tr>\n",
       "  </tbody>\n",
       "</table>\n",
       "</div>"
      ],
      "text/plain": [
       "         Brand Location Fuel_Type Transmission Owner_Type Seats  Year_log  \\\n",
       "2        Honda  Chennai    Petrol       Manual      First   5.0  7.606885   \n",
       "7       Toyota   Mumbai    Diesel    Automatic      First   8.0  7.609367   \n",
       "10      Maruti    Kochi    Petrol       Manual      First   5.0  7.610358   \n",
       "15  Mitsubishi    Delhi    Diesel       Manual      First   7.0  7.608374   \n",
       "20         BMW    Kochi    Diesel    Automatic      First   5.0  7.608374   \n",
       "\n",
       "    Kilometers_Driven_log  Mileage_log  Engine_log  Power_log  New_Price_log  \n",
       "2               10.736418     2.954910    7.090077   4.496471       2.262804  \n",
       "7               10.491302     2.514465    7.921536   5.150397       3.091042  \n",
       "10              10.153974     3.116178    7.288244   4.646792       2.455306  \n",
       "15              11.608245     2.674149    7.815207   5.173661       3.496811  \n",
       "20              10.403748     3.165053    7.598900   5.252273       3.889164  "
      ]
     },
     "execution_count": 76,
     "metadata": {},
     "output_type": "execute_result"
    }
   ],
   "source": [
    "df4 = df.copy()\n",
    "df4['Seats'] = df4['Seats'].astype('category')\n",
    "dist_cols2 = [\n",
    "    item for item in df4.select_dtypes(include=np.number).columns\n",
    "]\n",
    "for col in dist_cols2:\n",
    "    df4[col + \"_log\"] = np.log(df4[col] + 1)\n",
    "df4.drop(dist_cols2, axis=1, inplace=True)\n",
    "X2 = df4.drop(['Price_log'],axis =1)\n",
    "y2 = df4['Price_log']\n",
    "X2.head()"
   ]
  },
  {
   "cell_type": "markdown",
   "id": "2cbd309d",
   "metadata": {},
   "source": [
    "- Sets up 2 models for the logarithmically transformed data, one using seats as a float and the second using seats as a category."
   ]
  },
  {
   "cell_type": "code",
   "execution_count": 77,
   "id": "c97dcb20",
   "metadata": {},
   "outputs": [],
   "source": [
    "X = pd.get_dummies(\n",
    "    X,\n",
    "    columns=X.select_dtypes(include=[\"object\", \"category\"]).columns.tolist(),\n",
    "    drop_first=True,\n",
    ")\n",
    "X2 = pd.get_dummies(\n",
    "    X2,\n",
    "    columns=X2.select_dtypes(include=[\"object\", \"category\"]).columns.tolist(),\n",
    "    drop_first=True,\n",
    ")"
   ]
  },
  {
   "cell_type": "markdown",
   "id": "915015ef",
   "metadata": {},
   "source": [
    "- Getting dummy sets for all categorical variables"
   ]
  },
  {
   "cell_type": "code",
   "execution_count": 78,
   "id": "e337c638",
   "metadata": {},
   "outputs": [],
   "source": [
    "x_train, x_test, y_train, y_test = train_test_split(X, y, test_size=0.3, random_state=1)\n",
    "\n",
    "x2_train, x2_test, y2_train, y2_test = train_test_split(X2, y2, test_size=0.3, random_state=1)"
   ]
  },
  {
   "cell_type": "markdown",
   "id": "d55434fb",
   "metadata": {},
   "source": [
    "- Setting testing and training sets"
   ]
  },
  {
   "cell_type": "code",
   "execution_count": 79,
   "id": "12987e59",
   "metadata": {},
   "outputs": [
    {
     "data": {
      "text/plain": [
       "LinearRegression()"
      ]
     },
     "execution_count": 79,
     "metadata": {},
     "output_type": "execute_result"
    }
   ],
   "source": [
    "lin_reg_model = LinearRegression()\n",
    "lin_reg_model.fit(x_train, y_train)\n",
    "\n",
    "lin_reg_model2 = LinearRegression()\n",
    "lin_reg_model2.fit(x2_train, y2_train)\n"
   ]
  },
  {
   "cell_type": "markdown",
   "id": "5596236d",
   "metadata": {},
   "source": [
    "- fitting to linear regression models"
   ]
  },
  {
   "cell_type": "code",
   "execution_count": 80,
   "id": "500430a4",
   "metadata": {},
   "outputs": [
    {
     "data": {
      "text/html": [
       "<div>\n",
       "<style scoped>\n",
       "    .dataframe tbody tr th:only-of-type {\n",
       "        vertical-align: middle;\n",
       "    }\n",
       "\n",
       "    .dataframe tbody tr th {\n",
       "        vertical-align: top;\n",
       "    }\n",
       "\n",
       "    .dataframe thead th {\n",
       "        text-align: right;\n",
       "    }\n",
       "</style>\n",
       "<table border=\"1\" class=\"dataframe\">\n",
       "  <thead>\n",
       "    <tr style=\"text-align: right;\">\n",
       "      <th></th>\n",
       "      <th>Coefficients</th>\n",
       "    </tr>\n",
       "  </thead>\n",
       "  <tbody>\n",
       "    <tr>\n",
       "      <th>Year_log</th>\n",
       "      <td>1.985391e+02</td>\n",
       "    </tr>\n",
       "    <tr>\n",
       "      <th>Kilometers_Driven_log</th>\n",
       "      <td>-4.073204e-02</td>\n",
       "    </tr>\n",
       "    <tr>\n",
       "      <th>Mileage_log</th>\n",
       "      <td>7.566324e-02</td>\n",
       "    </tr>\n",
       "    <tr>\n",
       "      <th>Engine_log</th>\n",
       "      <td>2.464239e-01</td>\n",
       "    </tr>\n",
       "    <tr>\n",
       "      <th>Power_log</th>\n",
       "      <td>8.851706e-01</td>\n",
       "    </tr>\n",
       "    <tr>\n",
       "      <th>Seats_log</th>\n",
       "      <td>-5.490333e-02</td>\n",
       "    </tr>\n",
       "    <tr>\n",
       "      <th>New_Price_log</th>\n",
       "      <td>1.171765e-01</td>\n",
       "    </tr>\n",
       "    <tr>\n",
       "      <th>Brand_BMW</th>\n",
       "      <td>-1.419706e-01</td>\n",
       "    </tr>\n",
       "    <tr>\n",
       "      <th>Brand_Datsun</th>\n",
       "      <td>-4.044958e-01</td>\n",
       "    </tr>\n",
       "    <tr>\n",
       "      <th>Brand_Fiat</th>\n",
       "      <td>-6.482225e-01</td>\n",
       "    </tr>\n",
       "    <tr>\n",
       "      <th>Brand_Ford</th>\n",
       "      <td>-4.333567e-01</td>\n",
       "    </tr>\n",
       "    <tr>\n",
       "      <th>Brand_Honda</th>\n",
       "      <td>-3.658392e-01</td>\n",
       "    </tr>\n",
       "    <tr>\n",
       "      <th>Brand_Hyundai</th>\n",
       "      <td>-4.131211e-01</td>\n",
       "    </tr>\n",
       "    <tr>\n",
       "      <th>Brand_Isuzu</th>\n",
       "      <td>-6.883383e-15</td>\n",
       "    </tr>\n",
       "    <tr>\n",
       "      <th>Brand_Jaguar</th>\n",
       "      <td>1.547508e-01</td>\n",
       "    </tr>\n",
       "    <tr>\n",
       "      <th>Brand_Jeep</th>\n",
       "      <td>-3.763832e-01</td>\n",
       "    </tr>\n",
       "    <tr>\n",
       "      <th>Brand_Land</th>\n",
       "      <td>3.811395e-01</td>\n",
       "    </tr>\n",
       "    <tr>\n",
       "      <th>Brand_Mahindra</th>\n",
       "      <td>-4.718292e-01</td>\n",
       "    </tr>\n",
       "    <tr>\n",
       "      <th>Brand_Maruti</th>\n",
       "      <td>-3.122136e-01</td>\n",
       "    </tr>\n",
       "    <tr>\n",
       "      <th>Brand_Mercedes-Benz</th>\n",
       "      <td>1.931428e-01</td>\n",
       "    </tr>\n",
       "    <tr>\n",
       "      <th>Brand_Mini</th>\n",
       "      <td>3.163441e-01</td>\n",
       "    </tr>\n",
       "    <tr>\n",
       "      <th>Brand_Mitsubishi</th>\n",
       "      <td>-3.940035e-01</td>\n",
       "    </tr>\n",
       "    <tr>\n",
       "      <th>Brand_Nissan</th>\n",
       "      <td>-3.410967e-01</td>\n",
       "    </tr>\n",
       "    <tr>\n",
       "      <th>Brand_Porsche</th>\n",
       "      <td>-2.745031e+00</td>\n",
       "    </tr>\n",
       "    <tr>\n",
       "      <th>Brand_Renault</th>\n",
       "      <td>-3.745611e-01</td>\n",
       "    </tr>\n",
       "    <tr>\n",
       "      <th>Brand_Skoda</th>\n",
       "      <td>-5.019213e-01</td>\n",
       "    </tr>\n",
       "    <tr>\n",
       "      <th>Brand_Tata</th>\n",
       "      <td>-5.454068e-01</td>\n",
       "    </tr>\n",
       "    <tr>\n",
       "      <th>Brand_Toyota</th>\n",
       "      <td>-2.572389e-01</td>\n",
       "    </tr>\n",
       "    <tr>\n",
       "      <th>Brand_Volkswagen</th>\n",
       "      <td>-4.588459e-01</td>\n",
       "    </tr>\n",
       "    <tr>\n",
       "      <th>Brand_Volvo</th>\n",
       "      <td>8.270285e-02</td>\n",
       "    </tr>\n",
       "    <tr>\n",
       "      <th>Location_Bangalore</th>\n",
       "      <td>6.306886e-02</td>\n",
       "    </tr>\n",
       "    <tr>\n",
       "      <th>Location_Chennai</th>\n",
       "      <td>-8.592826e-02</td>\n",
       "    </tr>\n",
       "    <tr>\n",
       "      <th>Location_Coimbatore</th>\n",
       "      <td>2.704872e-02</td>\n",
       "    </tr>\n",
       "    <tr>\n",
       "      <th>Location_Delhi</th>\n",
       "      <td>-6.579650e-02</td>\n",
       "    </tr>\n",
       "    <tr>\n",
       "      <th>Location_Hyderabad</th>\n",
       "      <td>2.887746e-02</td>\n",
       "    </tr>\n",
       "    <tr>\n",
       "      <th>Location_Jaipur</th>\n",
       "      <td>-7.673645e-02</td>\n",
       "    </tr>\n",
       "    <tr>\n",
       "      <th>Location_Kochi</th>\n",
       "      <td>-5.402722e-02</td>\n",
       "    </tr>\n",
       "    <tr>\n",
       "      <th>Location_Kolkata</th>\n",
       "      <td>-1.936545e-01</td>\n",
       "    </tr>\n",
       "    <tr>\n",
       "      <th>Location_Mumbai</th>\n",
       "      <td>-7.070177e-02</td>\n",
       "    </tr>\n",
       "    <tr>\n",
       "      <th>Location_Pune</th>\n",
       "      <td>-4.828585e-02</td>\n",
       "    </tr>\n",
       "    <tr>\n",
       "      <th>Fuel_Type_Diesel</th>\n",
       "      <td>8.093958e-02</td>\n",
       "    </tr>\n",
       "    <tr>\n",
       "      <th>Fuel_Type_Electric</th>\n",
       "      <td>5.551115e-17</td>\n",
       "    </tr>\n",
       "    <tr>\n",
       "      <th>Fuel_Type_LPG</th>\n",
       "      <td>0.000000e+00</td>\n",
       "    </tr>\n",
       "    <tr>\n",
       "      <th>Fuel_Type_Petrol</th>\n",
       "      <td>-4.708428e-02</td>\n",
       "    </tr>\n",
       "    <tr>\n",
       "      <th>Transmission_Manual</th>\n",
       "      <td>-3.647008e-02</td>\n",
       "    </tr>\n",
       "    <tr>\n",
       "      <th>Owner_Type_Fourth &amp; Above</th>\n",
       "      <td>0.000000e+00</td>\n",
       "    </tr>\n",
       "    <tr>\n",
       "      <th>Owner_Type_Second</th>\n",
       "      <td>-1.209487e-02</td>\n",
       "    </tr>\n",
       "    <tr>\n",
       "      <th>Owner_Type_Third</th>\n",
       "      <td>2.801310e-01</td>\n",
       "    </tr>\n",
       "    <tr>\n",
       "      <th>Intercept</th>\n",
       "      <td>-1.514049e+03</td>\n",
       "    </tr>\n",
       "  </tbody>\n",
       "</table>\n",
       "</div>"
      ],
      "text/plain": [
       "                           Coefficients\n",
       "Year_log                   1.985391e+02\n",
       "Kilometers_Driven_log     -4.073204e-02\n",
       "Mileage_log                7.566324e-02\n",
       "Engine_log                 2.464239e-01\n",
       "Power_log                  8.851706e-01\n",
       "Seats_log                 -5.490333e-02\n",
       "New_Price_log              1.171765e-01\n",
       "Brand_BMW                 -1.419706e-01\n",
       "Brand_Datsun              -4.044958e-01\n",
       "Brand_Fiat                -6.482225e-01\n",
       "Brand_Ford                -4.333567e-01\n",
       "Brand_Honda               -3.658392e-01\n",
       "Brand_Hyundai             -4.131211e-01\n",
       "Brand_Isuzu               -6.883383e-15\n",
       "Brand_Jaguar               1.547508e-01\n",
       "Brand_Jeep                -3.763832e-01\n",
       "Brand_Land                 3.811395e-01\n",
       "Brand_Mahindra            -4.718292e-01\n",
       "Brand_Maruti              -3.122136e-01\n",
       "Brand_Mercedes-Benz        1.931428e-01\n",
       "Brand_Mini                 3.163441e-01\n",
       "Brand_Mitsubishi          -3.940035e-01\n",
       "Brand_Nissan              -3.410967e-01\n",
       "Brand_Porsche             -2.745031e+00\n",
       "Brand_Renault             -3.745611e-01\n",
       "Brand_Skoda               -5.019213e-01\n",
       "Brand_Tata                -5.454068e-01\n",
       "Brand_Toyota              -2.572389e-01\n",
       "Brand_Volkswagen          -4.588459e-01\n",
       "Brand_Volvo                8.270285e-02\n",
       "Location_Bangalore         6.306886e-02\n",
       "Location_Chennai          -8.592826e-02\n",
       "Location_Coimbatore        2.704872e-02\n",
       "Location_Delhi            -6.579650e-02\n",
       "Location_Hyderabad         2.887746e-02\n",
       "Location_Jaipur           -7.673645e-02\n",
       "Location_Kochi            -5.402722e-02\n",
       "Location_Kolkata          -1.936545e-01\n",
       "Location_Mumbai           -7.070177e-02\n",
       "Location_Pune             -4.828585e-02\n",
       "Fuel_Type_Diesel           8.093958e-02\n",
       "Fuel_Type_Electric         5.551115e-17\n",
       "Fuel_Type_LPG              0.000000e+00\n",
       "Fuel_Type_Petrol          -4.708428e-02\n",
       "Transmission_Manual       -3.647008e-02\n",
       "Owner_Type_Fourth & Above  0.000000e+00\n",
       "Owner_Type_Second         -1.209487e-02\n",
       "Owner_Type_Third           2.801310e-01\n",
       "Intercept                 -1.514049e+03"
      ]
     },
     "execution_count": 80,
     "metadata": {},
     "output_type": "execute_result"
    }
   ],
   "source": [
    "coef_df = pd.DataFrame(\n",
    "    np.append(lin_reg_model.coef_, lin_reg_model.intercept_),\n",
    "    index=x_train.columns.tolist() + [\"Intercept\"],\n",
    "    columns=[\"Coefficients\"],\n",
    ")\n",
    "coef_df"
   ]
  },
  {
   "cell_type": "markdown",
   "id": "7e92a4a6",
   "metadata": {},
   "source": [
    "- Postive coefficients mean the increasing these will increase price\n",
    "    - Year, Engine, Mileage, Power and New_price are positive\n",
    "    - Brands: Jaguar, Land Rover, Mercedez Benz, Mini Cooper and Volvo are positive\n",
    "    - Locations: Vangalore, Coimbatore and Hyderabad are positive\n",
    "    - The Electric and Diesal Fuel types are positive\n",
    "    - Third owner type is positive\n",
    "- The negative coefficients mean increasing these will decrease price\n",
    "    - Kilometers_Driven and Seats are negative\n",
    "    - Most locations and brands are negative\n",
    "    - most ownertypes are negative\n",
    "    - Petrol Fuel type is negative\n"
   ]
  },
  {
   "cell_type": "code",
   "execution_count": 81,
   "id": "abbb75c4",
   "metadata": {},
   "outputs": [
    {
     "data": {
      "text/html": [
       "<div>\n",
       "<style scoped>\n",
       "    .dataframe tbody tr th:only-of-type {\n",
       "        vertical-align: middle;\n",
       "    }\n",
       "\n",
       "    .dataframe tbody tr th {\n",
       "        vertical-align: top;\n",
       "    }\n",
       "\n",
       "    .dataframe thead th {\n",
       "        text-align: right;\n",
       "    }\n",
       "</style>\n",
       "<table border=\"1\" class=\"dataframe\">\n",
       "  <thead>\n",
       "    <tr style=\"text-align: right;\">\n",
       "      <th></th>\n",
       "      <th>Coefficients</th>\n",
       "    </tr>\n",
       "  </thead>\n",
       "  <tbody>\n",
       "    <tr>\n",
       "      <th>Year_log</th>\n",
       "      <td>2.007811e+02</td>\n",
       "    </tr>\n",
       "    <tr>\n",
       "      <th>Kilometers_Driven_log</th>\n",
       "      <td>-4.032511e-02</td>\n",
       "    </tr>\n",
       "    <tr>\n",
       "      <th>Mileage_log</th>\n",
       "      <td>8.394093e-02</td>\n",
       "    </tr>\n",
       "    <tr>\n",
       "      <th>Engine_log</th>\n",
       "      <td>2.764471e-01</td>\n",
       "    </tr>\n",
       "    <tr>\n",
       "      <th>Power_log</th>\n",
       "      <td>9.130470e-01</td>\n",
       "    </tr>\n",
       "    <tr>\n",
       "      <th>New_Price_log</th>\n",
       "      <td>1.149002e-01</td>\n",
       "    </tr>\n",
       "    <tr>\n",
       "      <th>Brand_BMW</th>\n",
       "      <td>-1.472291e-01</td>\n",
       "    </tr>\n",
       "    <tr>\n",
       "      <th>Brand_Datsun</th>\n",
       "      <td>-3.693413e-01</td>\n",
       "    </tr>\n",
       "    <tr>\n",
       "      <th>Brand_Fiat</th>\n",
       "      <td>-6.190778e-01</td>\n",
       "    </tr>\n",
       "    <tr>\n",
       "      <th>Brand_Ford</th>\n",
       "      <td>-4.259881e-01</td>\n",
       "    </tr>\n",
       "    <tr>\n",
       "      <th>Brand_Honda</th>\n",
       "      <td>-3.538420e-01</td>\n",
       "    </tr>\n",
       "    <tr>\n",
       "      <th>Brand_Hyundai</th>\n",
       "      <td>-4.032843e-01</td>\n",
       "    </tr>\n",
       "    <tr>\n",
       "      <th>Brand_Isuzu</th>\n",
       "      <td>3.019807e-14</td>\n",
       "    </tr>\n",
       "    <tr>\n",
       "      <th>Brand_Jaguar</th>\n",
       "      <td>1.520992e-01</td>\n",
       "    </tr>\n",
       "    <tr>\n",
       "      <th>Brand_Jeep</th>\n",
       "      <td>-3.886943e-01</td>\n",
       "    </tr>\n",
       "    <tr>\n",
       "      <th>Brand_Land</th>\n",
       "      <td>3.910820e-01</td>\n",
       "    </tr>\n",
       "    <tr>\n",
       "      <th>Brand_Mahindra</th>\n",
       "      <td>-4.495540e-01</td>\n",
       "    </tr>\n",
       "    <tr>\n",
       "      <th>Brand_Maruti</th>\n",
       "      <td>-2.907356e-01</td>\n",
       "    </tr>\n",
       "    <tr>\n",
       "      <th>Brand_Mercedes-Benz</th>\n",
       "      <td>2.058053e-01</td>\n",
       "    </tr>\n",
       "    <tr>\n",
       "      <th>Brand_Mini</th>\n",
       "      <td>3.811477e-01</td>\n",
       "    </tr>\n",
       "    <tr>\n",
       "      <th>Brand_Mitsubishi</th>\n",
       "      <td>-3.824818e-01</td>\n",
       "    </tr>\n",
       "    <tr>\n",
       "      <th>Brand_Nissan</th>\n",
       "      <td>-3.219132e-01</td>\n",
       "    </tr>\n",
       "    <tr>\n",
       "      <th>Brand_Porsche</th>\n",
       "      <td>-2.792550e+00</td>\n",
       "    </tr>\n",
       "    <tr>\n",
       "      <th>Brand_Renault</th>\n",
       "      <td>-3.499078e-01</td>\n",
       "    </tr>\n",
       "    <tr>\n",
       "      <th>Brand_Skoda</th>\n",
       "      <td>-5.034933e-01</td>\n",
       "    </tr>\n",
       "    <tr>\n",
       "      <th>Brand_Tata</th>\n",
       "      <td>-5.322571e-01</td>\n",
       "    </tr>\n",
       "    <tr>\n",
       "      <th>Brand_Toyota</th>\n",
       "      <td>-2.364923e-01</td>\n",
       "    </tr>\n",
       "    <tr>\n",
       "      <th>Brand_Volkswagen</th>\n",
       "      <td>-4.479500e-01</td>\n",
       "    </tr>\n",
       "    <tr>\n",
       "      <th>Brand_Volvo</th>\n",
       "      <td>8.724935e-02</td>\n",
       "    </tr>\n",
       "    <tr>\n",
       "      <th>Location_Bangalore</th>\n",
       "      <td>6.023082e-02</td>\n",
       "    </tr>\n",
       "    <tr>\n",
       "      <th>Location_Chennai</th>\n",
       "      <td>-7.803848e-02</td>\n",
       "    </tr>\n",
       "    <tr>\n",
       "      <th>Location_Coimbatore</th>\n",
       "      <td>3.066365e-02</td>\n",
       "    </tr>\n",
       "    <tr>\n",
       "      <th>Location_Delhi</th>\n",
       "      <td>-6.179759e-02</td>\n",
       "    </tr>\n",
       "    <tr>\n",
       "      <th>Location_Hyderabad</th>\n",
       "      <td>3.156373e-02</td>\n",
       "    </tr>\n",
       "    <tr>\n",
       "      <th>Location_Jaipur</th>\n",
       "      <td>-7.444134e-02</td>\n",
       "    </tr>\n",
       "    <tr>\n",
       "      <th>Location_Kochi</th>\n",
       "      <td>-5.273441e-02</td>\n",
       "    </tr>\n",
       "    <tr>\n",
       "      <th>Location_Kolkata</th>\n",
       "      <td>-1.840099e-01</td>\n",
       "    </tr>\n",
       "    <tr>\n",
       "      <th>Location_Mumbai</th>\n",
       "      <td>-6.572405e-02</td>\n",
       "    </tr>\n",
       "    <tr>\n",
       "      <th>Location_Pune</th>\n",
       "      <td>-4.416657e-02</td>\n",
       "    </tr>\n",
       "    <tr>\n",
       "      <th>Fuel_Type_Diesel</th>\n",
       "      <td>5.785216e-02</td>\n",
       "    </tr>\n",
       "    <tr>\n",
       "      <th>Fuel_Type_Electric</th>\n",
       "      <td>-8.326673e-17</td>\n",
       "    </tr>\n",
       "    <tr>\n",
       "      <th>Fuel_Type_LPG</th>\n",
       "      <td>3.469447e-17</td>\n",
       "    </tr>\n",
       "    <tr>\n",
       "      <th>Fuel_Type_Petrol</th>\n",
       "      <td>-6.235580e-02</td>\n",
       "    </tr>\n",
       "    <tr>\n",
       "      <th>Transmission_Manual</th>\n",
       "      <td>-3.011443e-02</td>\n",
       "    </tr>\n",
       "    <tr>\n",
       "      <th>Owner_Type_Fourth &amp; Above</th>\n",
       "      <td>0.000000e+00</td>\n",
       "    </tr>\n",
       "    <tr>\n",
       "      <th>Owner_Type_Second</th>\n",
       "      <td>-1.381300e-02</td>\n",
       "    </tr>\n",
       "    <tr>\n",
       "      <th>Owner_Type_Third</th>\n",
       "      <td>2.862181e-01</td>\n",
       "    </tr>\n",
       "    <tr>\n",
       "      <th>Seats_4.0</th>\n",
       "      <td>1.947933e-01</td>\n",
       "    </tr>\n",
       "    <tr>\n",
       "      <th>Seats_5.0</th>\n",
       "      <td>2.799806e-01</td>\n",
       "    </tr>\n",
       "    <tr>\n",
       "      <th>Seats_6.0</th>\n",
       "      <td>2.635795e-01</td>\n",
       "    </tr>\n",
       "    <tr>\n",
       "      <th>Seats_7.0</th>\n",
       "      <td>2.398754e-01</td>\n",
       "    </tr>\n",
       "    <tr>\n",
       "      <th>Seats_8.0</th>\n",
       "      <td>1.533075e-01</td>\n",
       "    </tr>\n",
       "    <tr>\n",
       "      <th>Intercept</th>\n",
       "      <td>-1.531857e+03</td>\n",
       "    </tr>\n",
       "  </tbody>\n",
       "</table>\n",
       "</div>"
      ],
      "text/plain": [
       "                           Coefficients\n",
       "Year_log                   2.007811e+02\n",
       "Kilometers_Driven_log     -4.032511e-02\n",
       "Mileage_log                8.394093e-02\n",
       "Engine_log                 2.764471e-01\n",
       "Power_log                  9.130470e-01\n",
       "New_Price_log              1.149002e-01\n",
       "Brand_BMW                 -1.472291e-01\n",
       "Brand_Datsun              -3.693413e-01\n",
       "Brand_Fiat                -6.190778e-01\n",
       "Brand_Ford                -4.259881e-01\n",
       "Brand_Honda               -3.538420e-01\n",
       "Brand_Hyundai             -4.032843e-01\n",
       "Brand_Isuzu                3.019807e-14\n",
       "Brand_Jaguar               1.520992e-01\n",
       "Brand_Jeep                -3.886943e-01\n",
       "Brand_Land                 3.910820e-01\n",
       "Brand_Mahindra            -4.495540e-01\n",
       "Brand_Maruti              -2.907356e-01\n",
       "Brand_Mercedes-Benz        2.058053e-01\n",
       "Brand_Mini                 3.811477e-01\n",
       "Brand_Mitsubishi          -3.824818e-01\n",
       "Brand_Nissan              -3.219132e-01\n",
       "Brand_Porsche             -2.792550e+00\n",
       "Brand_Renault             -3.499078e-01\n",
       "Brand_Skoda               -5.034933e-01\n",
       "Brand_Tata                -5.322571e-01\n",
       "Brand_Toyota              -2.364923e-01\n",
       "Brand_Volkswagen          -4.479500e-01\n",
       "Brand_Volvo                8.724935e-02\n",
       "Location_Bangalore         6.023082e-02\n",
       "Location_Chennai          -7.803848e-02\n",
       "Location_Coimbatore        3.066365e-02\n",
       "Location_Delhi            -6.179759e-02\n",
       "Location_Hyderabad         3.156373e-02\n",
       "Location_Jaipur           -7.444134e-02\n",
       "Location_Kochi            -5.273441e-02\n",
       "Location_Kolkata          -1.840099e-01\n",
       "Location_Mumbai           -6.572405e-02\n",
       "Location_Pune             -4.416657e-02\n",
       "Fuel_Type_Diesel           5.785216e-02\n",
       "Fuel_Type_Electric        -8.326673e-17\n",
       "Fuel_Type_LPG              3.469447e-17\n",
       "Fuel_Type_Petrol          -6.235580e-02\n",
       "Transmission_Manual       -3.011443e-02\n",
       "Owner_Type_Fourth & Above  0.000000e+00\n",
       "Owner_Type_Second         -1.381300e-02\n",
       "Owner_Type_Third           2.862181e-01\n",
       "Seats_4.0                  1.947933e-01\n",
       "Seats_5.0                  2.799806e-01\n",
       "Seats_6.0                  2.635795e-01\n",
       "Seats_7.0                  2.398754e-01\n",
       "Seats_8.0                  1.533075e-01\n",
       "Intercept                 -1.531857e+03"
      ]
     },
     "execution_count": 81,
     "metadata": {},
     "output_type": "execute_result"
    }
   ],
   "source": [
    "coef_df2 = pd.DataFrame(\n",
    "    np.append(lin_reg_model2.coef_, lin_reg_model2.intercept_),\n",
    "    index=x2_train.columns.tolist() + [\"Intercept\"],\n",
    "    columns=[\"Coefficients\"],\n",
    ")\n",
    "coef_df2"
   ]
  },
  {
   "cell_type": "markdown",
   "id": "2743fe7c",
   "metadata": {},
   "source": [
    "- Compared to previous set, when seats is a categorical variable (all values defer but changes in trends are):\n",
    "    - Isuzu is positive, rest are the same\n",
    "    - locations are the same\n",
    "    - Electric fuel type is negatve, rest are the same\n",
    "    - Owner types are the same\n",
    "    - All seats show a positive coefficient"
   ]
  },
  {
   "cell_type": "markdown",
   "id": "23443905",
   "metadata": {},
   "source": [
    "### Model Performance check"
   ]
  },
  {
   "cell_type": "code",
   "execution_count": 82,
   "id": "63b62470",
   "metadata": {},
   "outputs": [],
   "source": [
    "# function to compute adjusted R-squared\n",
    "def adj_r2_score(predictors, targets, predictions):\n",
    "    r2 = r2_score(targets, predictions)\n",
    "    n = predictors.shape[0]\n",
    "    k = predictors.shape[1]\n",
    "    return 1 - ((1 - r2) * (n - 1) / (n - k - 1))\n",
    "\n",
    "\n",
    "# function to compute MAPE\n",
    "def mape_score(targets, predictions):\n",
    "    return np.mean(np.abs(targets - predictions) / targets) * 100\n",
    "\n",
    "\n",
    "# function to compute different metrics to check performance of a regression model\n",
    "def model_performance_regression(model, predictors, target):\n",
    "    \"\"\"\n",
    "    Function to compute different metrics to check regression model performance\n",
    "\n",
    "    model: regressor\n",
    "    predictors: independent variables\n",
    "    target: dependent variable\n",
    "    \"\"\"\n",
    "\n",
    "    # predicting using the independent variables\n",
    "    pred = model.predict(predictors)\n",
    "\n",
    "    r2 = r2_score(target, pred)  # to compute R-squared\n",
    "    adjr2 = adj_r2_score(predictors, target, pred)  # to compute adjusted R-squared\n",
    "    rmse = np.sqrt(mean_squared_error(target, pred))  # to compute RMSE\n",
    "    mae = mean_absolute_error(target, pred)  # to compute MAE\n",
    "    mape = mape_score(target, pred)  # to compute MAPE\n",
    "\n",
    "    # creating a dataframe of metrics\n",
    "    df_perf = pd.DataFrame(\n",
    "        {\n",
    "            \"RMSE\": rmse,\n",
    "            \"MAE\": mae,\n",
    "            \"R-squared\": r2,\n",
    "            \"Adj. R-squared\": adjr2,\n",
    "            \"MAPE\": mape,\n",
    "        },\n",
    "        index=[0],\n",
    "    )\n",
    "\n",
    "    return df_perf"
   ]
  },
  {
   "cell_type": "code",
   "execution_count": 83,
   "id": "d4954da4",
   "metadata": {},
   "outputs": [
    {
     "name": "stdout",
     "output_type": "stream",
     "text": [
      "Training Performance\n",
      "\n"
     ]
    },
    {
     "data": {
      "text/html": [
       "<div>\n",
       "<style scoped>\n",
       "    .dataframe tbody tr th:only-of-type {\n",
       "        vertical-align: middle;\n",
       "    }\n",
       "\n",
       "    .dataframe tbody tr th {\n",
       "        vertical-align: top;\n",
       "    }\n",
       "\n",
       "    .dataframe thead th {\n",
       "        text-align: right;\n",
       "    }\n",
       "</style>\n",
       "<table border=\"1\" class=\"dataframe\">\n",
       "  <thead>\n",
       "    <tr style=\"text-align: right;\">\n",
       "      <th></th>\n",
       "      <th>RMSE</th>\n",
       "      <th>MAE</th>\n",
       "      <th>R-squared</th>\n",
       "      <th>Adj. R-squared</th>\n",
       "      <th>MAPE</th>\n",
       "    </tr>\n",
       "  </thead>\n",
       "  <tbody>\n",
       "    <tr>\n",
       "      <th>0</th>\n",
       "      <td>0.1575</td>\n",
       "      <td>0.118627</td>\n",
       "      <td>0.945566</td>\n",
       "      <td>0.940463</td>\n",
       "      <td>5.609666</td>\n",
       "    </tr>\n",
       "  </tbody>\n",
       "</table>\n",
       "</div>"
      ],
      "text/plain": [
       "     RMSE       MAE  R-squared  Adj. R-squared      MAPE\n",
       "0  0.1575  0.118627   0.945566        0.940463  5.609666"
      ]
     },
     "execution_count": 83,
     "metadata": {},
     "output_type": "execute_result"
    }
   ],
   "source": [
    "# Checking model performance on train set\n",
    "print(\"Training Performance\\n\")\n",
    "lin_reg_model_train_perf = model_performance_regression(lin_reg_model, x_train, y_train)\n",
    "lin_reg_model_train_perf"
   ]
  },
  {
   "cell_type": "code",
   "execution_count": 84,
   "id": "fb216ee3",
   "metadata": {
    "scrolled": false
   },
   "outputs": [
    {
     "name": "stdout",
     "output_type": "stream",
     "text": [
      "Test Performance\n",
      "\n"
     ]
    },
    {
     "data": {
      "text/html": [
       "<div>\n",
       "<style scoped>\n",
       "    .dataframe tbody tr th:only-of-type {\n",
       "        vertical-align: middle;\n",
       "    }\n",
       "\n",
       "    .dataframe tbody tr th {\n",
       "        vertical-align: top;\n",
       "    }\n",
       "\n",
       "    .dataframe thead th {\n",
       "        text-align: right;\n",
       "    }\n",
       "</style>\n",
       "<table border=\"1\" class=\"dataframe\">\n",
       "  <thead>\n",
       "    <tr style=\"text-align: right;\">\n",
       "      <th></th>\n",
       "      <th>RMSE</th>\n",
       "      <th>MAE</th>\n",
       "      <th>R-squared</th>\n",
       "      <th>Adj. R-squared</th>\n",
       "      <th>MAPE</th>\n",
       "    </tr>\n",
       "  </thead>\n",
       "  <tbody>\n",
       "    <tr>\n",
       "      <th>0</th>\n",
       "      <td>0.243349</td>\n",
       "      <td>0.149854</td>\n",
       "      <td>0.88595</td>\n",
       "      <td>0.857438</td>\n",
       "      <td>7.245797</td>\n",
       "    </tr>\n",
       "  </tbody>\n",
       "</table>\n",
       "</div>"
      ],
      "text/plain": [
       "       RMSE       MAE  R-squared  Adj. R-squared      MAPE\n",
       "0  0.243349  0.149854    0.88595        0.857438  7.245797"
      ]
     },
     "execution_count": 84,
     "metadata": {},
     "output_type": "execute_result"
    }
   ],
   "source": [
    "# Checking model performance on test set\n",
    "print(\"Test Performance\\n\")\n",
    "lin_reg_model_test_perf = model_performance_regression(lin_reg_model, x_test, y_test)\n",
    "lin_reg_model_test_perf"
   ]
  },
  {
   "cell_type": "markdown",
   "id": "c57eff16",
   "metadata": {},
   "source": [
    "#### Set 1 Observations"
   ]
  },
  {
   "cell_type": "markdown",
   "id": "3335e70f",
   "metadata": {},
   "source": [
    "- The train and test R-squared are 0.95 and 0.88, indicating that the model explains 95% and 88% of the train and test set variations respectively and the scores are comparable \n",
    "- RMSE values have a large difference between them\n",
    "- the model might be overfitting\n",
    "- MAE indicates the podel is able to predict price within a mean error of 0.15 on the test set\n",
    "- Mape indicated we are able to predict with 7.3% of the price"
   ]
  },
  {
   "cell_type": "code",
   "execution_count": 85,
   "id": "81e2808f",
   "metadata": {},
   "outputs": [
    {
     "name": "stdout",
     "output_type": "stream",
     "text": [
      "Training Performance\n",
      "\n"
     ]
    },
    {
     "data": {
      "text/html": [
       "<div>\n",
       "<style scoped>\n",
       "    .dataframe tbody tr th:only-of-type {\n",
       "        vertical-align: middle;\n",
       "    }\n",
       "\n",
       "    .dataframe tbody tr th {\n",
       "        vertical-align: top;\n",
       "    }\n",
       "\n",
       "    .dataframe thead th {\n",
       "        text-align: right;\n",
       "    }\n",
       "</style>\n",
       "<table border=\"1\" class=\"dataframe\">\n",
       "  <thead>\n",
       "    <tr style=\"text-align: right;\">\n",
       "      <th></th>\n",
       "      <th>RMSE</th>\n",
       "      <th>MAE</th>\n",
       "      <th>R-squared</th>\n",
       "      <th>Adj. R-squared</th>\n",
       "      <th>MAPE</th>\n",
       "    </tr>\n",
       "  </thead>\n",
       "  <tbody>\n",
       "    <tr>\n",
       "      <th>0</th>\n",
       "      <td>0.156511</td>\n",
       "      <td>0.116912</td>\n",
       "      <td>0.946247</td>\n",
       "      <td>0.940745</td>\n",
       "      <td>5.563977</td>\n",
       "    </tr>\n",
       "  </tbody>\n",
       "</table>\n",
       "</div>"
      ],
      "text/plain": [
       "       RMSE       MAE  R-squared  Adj. R-squared      MAPE\n",
       "0  0.156511  0.116912   0.946247        0.940745  5.563977"
      ]
     },
     "execution_count": 85,
     "metadata": {},
     "output_type": "execute_result"
    }
   ],
   "source": [
    "# Checking model performance on train set\n",
    "print(\"Training Performance\\n\")\n",
    "lin_reg_model_train_perf2 = model_performance_regression(lin_reg_model2, x2_train, y2_train)\n",
    "lin_reg_model_train_perf2"
   ]
  },
  {
   "cell_type": "code",
   "execution_count": 86,
   "id": "faf7665f",
   "metadata": {},
   "outputs": [
    {
     "name": "stdout",
     "output_type": "stream",
     "text": [
      "Test Performance\n",
      "\n"
     ]
    },
    {
     "data": {
      "text/html": [
       "<div>\n",
       "<style scoped>\n",
       "    .dataframe tbody tr th:only-of-type {\n",
       "        vertical-align: middle;\n",
       "    }\n",
       "\n",
       "    .dataframe tbody tr th {\n",
       "        vertical-align: top;\n",
       "    }\n",
       "\n",
       "    .dataframe thead th {\n",
       "        text-align: right;\n",
       "    }\n",
       "</style>\n",
       "<table border=\"1\" class=\"dataframe\">\n",
       "  <thead>\n",
       "    <tr style=\"text-align: right;\">\n",
       "      <th></th>\n",
       "      <th>RMSE</th>\n",
       "      <th>MAE</th>\n",
       "      <th>R-squared</th>\n",
       "      <th>Adj. R-squared</th>\n",
       "      <th>MAPE</th>\n",
       "    </tr>\n",
       "  </thead>\n",
       "  <tbody>\n",
       "    <tr>\n",
       "      <th>0</th>\n",
       "      <td>0.248141</td>\n",
       "      <td>0.151525</td>\n",
       "      <td>0.881415</td>\n",
       "      <td>0.848615</td>\n",
       "      <td>7.319807</td>\n",
       "    </tr>\n",
       "  </tbody>\n",
       "</table>\n",
       "</div>"
      ],
      "text/plain": [
       "       RMSE       MAE  R-squared  Adj. R-squared      MAPE\n",
       "0  0.248141  0.151525   0.881415        0.848615  7.319807"
      ]
     },
     "execution_count": 86,
     "metadata": {},
     "output_type": "execute_result"
    }
   ],
   "source": [
    "# Checking model performance on test set\n",
    "print(\"Test Performance\\n\")\n",
    "lin_reg_model_test_perf2 = model_performance_regression(lin_reg_model2, x2_test, y2_test)\n",
    "lin_reg_model_test_perf2"
   ]
  },
  {
   "cell_type": "markdown",
   "id": "ad15eb51",
   "metadata": {},
   "source": [
    "#### Set 2 Observations"
   ]
  },
  {
   "cell_type": "markdown",
   "id": "647b2bca",
   "metadata": {},
   "source": [
    "- Second set is extremely similar to first set with a negligible  increase in MAPE among both test and train and a decrease in R-squared among the test sets making the first set model better"
   ]
  },
  {
   "cell_type": "markdown",
   "id": "c559712b",
   "metadata": {},
   "source": [
    "## Conclusions"
   ]
  },
  {
   "cell_type": "markdown",
   "id": "7f79c320",
   "metadata": {},
   "source": [
    "- Built a predictive model that can predict the price of used cars with an R-squared of 0.945 on the training set\n",
    "- This model can be used to predict the price with a mean error of 0.15 on the test set\n",
    "- The logarithm of Year, Engine, Mileage, Power and New Price of the car are some of the factors which increase the price\n",
    "- Kilometers driven and the car running on petrol are some of the factors which decrease the price of the car.\n",
    "- Cars4U can explore non-linear models to help identify patterns and make predictions"
   ]
  }
 ],
 "metadata": {
  "kernelspec": {
   "display_name": "Python 3",
   "language": "python",
   "name": "python3"
  },
  "language_info": {
   "codemirror_mode": {
    "name": "ipython",
    "version": 3
   },
   "file_extension": ".py",
   "mimetype": "text/x-python",
   "name": "python",
   "nbconvert_exporter": "python",
   "pygments_lexer": "ipython3",
   "version": "3.8.8"
  }
 },
 "nbformat": 4,
 "nbformat_minor": 5
}
